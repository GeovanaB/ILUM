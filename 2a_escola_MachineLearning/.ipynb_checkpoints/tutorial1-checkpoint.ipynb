{
 "cells": [
  {
   "cell_type": "markdown",
   "id": "cc5483d4-b14b-49bc-be71-a603d776ec4f",
   "metadata": {},
   "source": [
    "<h4>Focado em descobertas de novos materiais:</h4>"
   ]
  },
  {
   "cell_type": "code",
   "execution_count": null,
   "id": "d157b17d-0320-466b-a39a-a199db61813e",
   "metadata": {},
   "outputs": [],
   "source": []
  }
 ],
 "metadata": {
  "kernelspec": {
   "display_name": "ilumpy",
   "language": "python",
   "name": "ilumpy"
  },
  "language_info": {
   "codemirror_mode": {
    "name": "ipython",
    "version": 3
   },
   "file_extension": ".py",
   "mimetype": "text/x-python",
   "name": "python",
   "nbconvert_exporter": "python",
   "pygments_lexer": "ipython3",
   "version": "3.10.8"
  }
 },
 "nbformat": 4,
 "nbformat_minor": 5
}
