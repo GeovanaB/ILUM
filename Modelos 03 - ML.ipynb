{
 "cells": [
  {
   "cell_type": "markdown",
   "id": "964fb08a-c08c-411f-8484-d9d2f05756f6",
   "metadata": {},
   "source": [
    "## Modelos 03\n",
    "<p>Dupla: Grahcyanne's </p>\n",
    "\n",
    "---"
   ]
  },
  {
   "cell_type": "markdown",
   "id": "e2385f91-7a73-4b51-9dfc-028ee0da67f6",
   "metadata": {},
   "source": [
    "Seguindo em nossos estudos sobre modelos lineares, o melhor ajuste linear de modelo predivo com base no conjunto de dados.\n",
    "Inicialmente, veremos que quando há muitas covariáveis - isto é, d é grande (Figura 1), possui baixo desempenho devido ao super-ajuste. Há muitos parâmetros a serem estimados, nesses casos, a função de regressão linear estimada possui baixo poder preditivo. Em outras palavras, a variância do estimador resultante é alta pois muitos parâmetros devem ser estimados.<br>\n",
    "\n",
    "<img src=\"equa_3.1.PNG\">\n",
    "Figura 1<br><br>\n",
    "\n",
    "Siga no exemplo 1 para ver, na prática, o baixo poder preditivo do modelo linear simples."
   ]
  },
  {
   "cell_type": "markdown",
   "id": "31c35b89-16c1-4b7c-b9b9-6f67868ae387",
   "metadata": {},
   "source": [
    "Importando as bibliotecas que serão usadas ao longo no notebook:"
   ]
  },
  {
   "cell_type": "code",
   "execution_count": 153,
   "id": "12865896-3d64-4b53-aa50-e8ed28c32b84",
   "metadata": {},
   "outputs": [],
   "source": [
    "import pandas as pd\n",
    "import numpy as np\n",
    "import seaborn as sns\n",
    "from matplotlib import pyplot as plt\n",
    "import sklearn as skl"
   ]
  },
  {
   "cell_type": "markdown",
   "id": "4b5823a1-76c2-4387-bd51-4c8b71bdbf53",
   "metadata": {},
   "source": [
    "Usamos um dataset didático da biblioteca seaborn sobre `Pinguis`. Como features utilizamos as colunas que possuem informações sobre o comprimento do bico, profundidade do bico e tamanho da nadadeira, respectivamente. E como target - quem queremos prever - utilizamos a coluna sobre a massa total do pinguin. Veja:"
   ]
  },
  {
   "cell_type": "code",
   "execution_count": 154,
   "id": "15bf24d1-22ad-407f-8c54-bf7d1d7915af",
   "metadata": {},
   "outputs": [],
   "source": [
    "DATASET_NAME = \"penguins\"\n",
    "FEATURES = [\"bill_length_mm\", \"bill_depth_mm\", \"flipper_length_mm\"]\n",
    "TARGET = [\"body_mass_g\"]\n",
    "\n",
    "df = sns.load_dataset(DATASET_NAME)\n",
    "\n",
    "df = df.reindex(FEATURES + TARGET, axis=1)\n",
    "df = df.dropna()  \n",
    "\n",
    "X = df.reindex(FEATURES, axis=1)\n",
    "y = df.reindex(TARGET, axis=1)\n",
    "\n",
    "X = X.values\n",
    "y = y.values.ravel() "
   ]
  },
  {
   "cell_type": "markdown",
   "id": "f1fc62df-8653-4dab-8555-7980487b45e8",
   "metadata": {},
   "source": [
    "Como o dataset já separado entre features e targets, faremos uma análise geral dos dados - afim de conhecer o dataset, averiguar se existem campos não preenchidos e que todos os dados são numéricos, sendo assim possíveis de serem treinados em modelos lineares. "
   ]
  },
  {
   "cell_type": "code",
   "execution_count": 155,
   "id": "2c0ff33d-ab21-4ed2-857d-b2c7c131f304",
   "metadata": {},
   "outputs": [
    {
     "name": "stdout",
     "output_type": "stream",
     "text": [
      "<class 'pandas.core.frame.DataFrame'>\n",
      "Int64Index: 342 entries, 0 to 343\n",
      "Data columns (total 4 columns):\n",
      " #   Column             Non-Null Count  Dtype  \n",
      "---  ------             --------------  -----  \n",
      " 0   bill_length_mm     342 non-null    float64\n",
      " 1   bill_depth_mm      342 non-null    float64\n",
      " 2   flipper_length_mm  342 non-null    float64\n",
      " 3   body_mass_g        342 non-null    float64\n",
      "dtypes: float64(4)\n",
      "memory usage: 13.4 KB\n"
     ]
    }
   ],
   "source": [
    "df.info()"
   ]
  },
  {
   "cell_type": "code",
   "execution_count": 156,
   "id": "638bff62-342c-4dd5-8f46-eba79e95b7f3",
   "metadata": {},
   "outputs": [
    {
     "data": {
      "text/html": [
       "<div>\n",
       "<style scoped>\n",
       "    .dataframe tbody tr th:only-of-type {\n",
       "        vertical-align: middle;\n",
       "    }\n",
       "\n",
       "    .dataframe tbody tr th {\n",
       "        vertical-align: top;\n",
       "    }\n",
       "\n",
       "    .dataframe thead th {\n",
       "        text-align: right;\n",
       "    }\n",
       "</style>\n",
       "<table border=\"1\" class=\"dataframe\">\n",
       "  <thead>\n",
       "    <tr style=\"text-align: right;\">\n",
       "      <th></th>\n",
       "      <th>bill_length_mm</th>\n",
       "      <th>bill_depth_mm</th>\n",
       "      <th>flipper_length_mm</th>\n",
       "      <th>body_mass_g</th>\n",
       "    </tr>\n",
       "  </thead>\n",
       "  <tbody>\n",
       "    <tr>\n",
       "      <th>count</th>\n",
       "      <td>342.000000</td>\n",
       "      <td>342.000000</td>\n",
       "      <td>342.000000</td>\n",
       "      <td>342.000000</td>\n",
       "    </tr>\n",
       "    <tr>\n",
       "      <th>mean</th>\n",
       "      <td>43.921930</td>\n",
       "      <td>17.151170</td>\n",
       "      <td>200.915205</td>\n",
       "      <td>4201.754386</td>\n",
       "    </tr>\n",
       "    <tr>\n",
       "      <th>std</th>\n",
       "      <td>5.459584</td>\n",
       "      <td>1.974793</td>\n",
       "      <td>14.061714</td>\n",
       "      <td>801.954536</td>\n",
       "    </tr>\n",
       "    <tr>\n",
       "      <th>min</th>\n",
       "      <td>32.100000</td>\n",
       "      <td>13.100000</td>\n",
       "      <td>172.000000</td>\n",
       "      <td>2700.000000</td>\n",
       "    </tr>\n",
       "    <tr>\n",
       "      <th>25%</th>\n",
       "      <td>39.225000</td>\n",
       "      <td>15.600000</td>\n",
       "      <td>190.000000</td>\n",
       "      <td>3550.000000</td>\n",
       "    </tr>\n",
       "    <tr>\n",
       "      <th>50%</th>\n",
       "      <td>44.450000</td>\n",
       "      <td>17.300000</td>\n",
       "      <td>197.000000</td>\n",
       "      <td>4050.000000</td>\n",
       "    </tr>\n",
       "    <tr>\n",
       "      <th>75%</th>\n",
       "      <td>48.500000</td>\n",
       "      <td>18.700000</td>\n",
       "      <td>213.000000</td>\n",
       "      <td>4750.000000</td>\n",
       "    </tr>\n",
       "    <tr>\n",
       "      <th>max</th>\n",
       "      <td>59.600000</td>\n",
       "      <td>21.500000</td>\n",
       "      <td>231.000000</td>\n",
       "      <td>6300.000000</td>\n",
       "    </tr>\n",
       "  </tbody>\n",
       "</table>\n",
       "</div>"
      ],
      "text/plain": [
       "       bill_length_mm  bill_depth_mm  flipper_length_mm  body_mass_g\n",
       "count      342.000000     342.000000         342.000000   342.000000\n",
       "mean        43.921930      17.151170         200.915205  4201.754386\n",
       "std          5.459584       1.974793          14.061714   801.954536\n",
       "min         32.100000      13.100000         172.000000  2700.000000\n",
       "25%         39.225000      15.600000         190.000000  3550.000000\n",
       "50%         44.450000      17.300000         197.000000  4050.000000\n",
       "75%         48.500000      18.700000         213.000000  4750.000000\n",
       "max         59.600000      21.500000         231.000000  6300.000000"
      ]
     },
     "execution_count": 156,
     "metadata": {},
     "output_type": "execute_result"
    }
   ],
   "source": [
    "df.describe()"
   ]
  },
  {
   "cell_type": "code",
   "execution_count": 157,
   "id": "a2704ce2-2d34-4853-bcae-5dfc1987cf30",
   "metadata": {},
   "outputs": [
    {
     "name": "stdout",
     "output_type": "stream",
     "text": [
      "bill_length_mm       0\n",
      "bill_depth_mm        0\n",
      "flipper_length_mm    0\n",
      "body_mass_g          0\n",
      "dtype: int64\n"
     ]
    }
   ],
   "source": [
    "print(df.isnull().sum())"
   ]
  },
  {
   "cell_type": "markdown",
   "id": "1d047634-049c-4fde-a558-316a94fd65ec",
   "metadata": {},
   "source": [
    "Nosso dataset está pronto para ser treinado! ^-^ <br>\n",
    "\n",
    "Utilizando a técnica divisão dos dados em treino e teste, disponível no módulo scikit-learn, a fim de treinarmos o modemos com a maior parte dos dados e armazenar uma pequena parte, para que o modelo seje testado facilmente com métricas que calculam o erro - como o MSE(erro quadrático médio) e o RMSE(raiz do erro quadrático médio)."
   ]
  },
  {
   "cell_type": "code",
   "execution_count": 158,
   "id": "a2cf6e42-bc59-4877-867a-8124f31f5332",
   "metadata": {},
   "outputs": [],
   "source": [
    "from sklearn.model_selection import train_test_split\n",
    "\n",
    "TAMANHO_TESTE = 0.1\n",
    "SEMENTE_ALEATORIA = 8509\n",
    "\n",
    "indices = df.index\n",
    "indices_treino, indices_teste = train_test_split(\n",
    "    indices, test_size=TAMANHO_TESTE, random_state=SEMENTE_ALEATORIA\n",
    ")\n",
    "\n",
    "df_treino = df.loc[indices_treino]\n",
    "df_teste = df.loc[indices_teste]\n",
    "\n",
    "X_treino = df_treino.reindex(FEATURES, axis=1).values\n",
    "y_treino = df_treino.reindex(TARGET, axis=1).values.ravel()\n",
    "\n",
    "X_teste = df_teste.reindex(FEATURES, axis=1).values\n",
    "y_teste = df_teste.reindex(TARGET, axis=1).values.ravel()"
   ]
  },
  {
   "cell_type": "markdown",
   "id": "2a4b2103-8904-47f3-b959-4f5c98a84e09",
   "metadata": {},
   "source": [
    "Treinando o modelo de regressão linear através da biblioteca Scikit Learn:"
   ]
  },
  {
   "cell_type": "code",
   "execution_count": 159,
   "id": "9f3ca933-3bdf-48ce-b825-6f04e4fa5602",
   "metadata": {},
   "outputs": [
    {
     "data": {
      "text/html": [
       "<style>#sk-container-id-21 {color: black;background-color: white;}#sk-container-id-21 pre{padding: 0;}#sk-container-id-21 div.sk-toggleable {background-color: white;}#sk-container-id-21 label.sk-toggleable__label {cursor: pointer;display: block;width: 100%;margin-bottom: 0;padding: 0.3em;box-sizing: border-box;text-align: center;}#sk-container-id-21 label.sk-toggleable__label-arrow:before {content: \"▸\";float: left;margin-right: 0.25em;color: #696969;}#sk-container-id-21 label.sk-toggleable__label-arrow:hover:before {color: black;}#sk-container-id-21 div.sk-estimator:hover label.sk-toggleable__label-arrow:before {color: black;}#sk-container-id-21 div.sk-toggleable__content {max-height: 0;max-width: 0;overflow: hidden;text-align: left;background-color: #f0f8ff;}#sk-container-id-21 div.sk-toggleable__content pre {margin: 0.2em;color: black;border-radius: 0.25em;background-color: #f0f8ff;}#sk-container-id-21 input.sk-toggleable__control:checked~div.sk-toggleable__content {max-height: 200px;max-width: 100%;overflow: auto;}#sk-container-id-21 input.sk-toggleable__control:checked~label.sk-toggleable__label-arrow:before {content: \"▾\";}#sk-container-id-21 div.sk-estimator input.sk-toggleable__control:checked~label.sk-toggleable__label {background-color: #d4ebff;}#sk-container-id-21 div.sk-label input.sk-toggleable__control:checked~label.sk-toggleable__label {background-color: #d4ebff;}#sk-container-id-21 input.sk-hidden--visually {border: 0;clip: rect(1px 1px 1px 1px);clip: rect(1px, 1px, 1px, 1px);height: 1px;margin: -1px;overflow: hidden;padding: 0;position: absolute;width: 1px;}#sk-container-id-21 div.sk-estimator {font-family: monospace;background-color: #f0f8ff;border: 1px dotted black;border-radius: 0.25em;box-sizing: border-box;margin-bottom: 0.5em;}#sk-container-id-21 div.sk-estimator:hover {background-color: #d4ebff;}#sk-container-id-21 div.sk-parallel-item::after {content: \"\";width: 100%;border-bottom: 1px solid gray;flex-grow: 1;}#sk-container-id-21 div.sk-label:hover label.sk-toggleable__label {background-color: #d4ebff;}#sk-container-id-21 div.sk-serial::before {content: \"\";position: absolute;border-left: 1px solid gray;box-sizing: border-box;top: 0;bottom: 0;left: 50%;z-index: 0;}#sk-container-id-21 div.sk-serial {display: flex;flex-direction: column;align-items: center;background-color: white;padding-right: 0.2em;padding-left: 0.2em;position: relative;}#sk-container-id-21 div.sk-item {position: relative;z-index: 1;}#sk-container-id-21 div.sk-parallel {display: flex;align-items: stretch;justify-content: center;background-color: white;position: relative;}#sk-container-id-21 div.sk-item::before, #sk-container-id-21 div.sk-parallel-item::before {content: \"\";position: absolute;border-left: 1px solid gray;box-sizing: border-box;top: 0;bottom: 0;left: 50%;z-index: -1;}#sk-container-id-21 div.sk-parallel-item {display: flex;flex-direction: column;z-index: 1;position: relative;background-color: white;}#sk-container-id-21 div.sk-parallel-item:first-child::after {align-self: flex-end;width: 50%;}#sk-container-id-21 div.sk-parallel-item:last-child::after {align-self: flex-start;width: 50%;}#sk-container-id-21 div.sk-parallel-item:only-child::after {width: 0;}#sk-container-id-21 div.sk-dashed-wrapped {border: 1px dashed gray;margin: 0 0.4em 0.5em 0.4em;box-sizing: border-box;padding-bottom: 0.4em;background-color: white;}#sk-container-id-21 div.sk-label label {font-family: monospace;font-weight: bold;display: inline-block;line-height: 1.2em;}#sk-container-id-21 div.sk-label-container {text-align: center;}#sk-container-id-21 div.sk-container {/* jupyter's `normalize.less` sets `[hidden] { display: none; }` but bootstrap.min.css set `[hidden] { display: none !important; }` so we also need the `!important` here to be able to override the default hidden behavior on the sphinx rendered scikit-learn.org. See: https://github.com/scikit-learn/scikit-learn/issues/21755 */display: inline-block !important;position: relative;}#sk-container-id-21 div.sk-text-repr-fallback {display: none;}</style><div id=\"sk-container-id-21\" class=\"sk-top-container\"><div class=\"sk-text-repr-fallback\"><pre>LinearRegression()</pre><b>In a Jupyter environment, please rerun this cell to show the HTML representation or trust the notebook. <br />On GitHub, the HTML representation is unable to render, please try loading this page with nbviewer.org.</b></div><div class=\"sk-container\" hidden><div class=\"sk-item\"><div class=\"sk-estimator sk-toggleable\"><input class=\"sk-toggleable__control sk-hidden--visually\" id=\"sk-estimator-id-21\" type=\"checkbox\" checked><label for=\"sk-estimator-id-21\" class=\"sk-toggleable__label sk-toggleable__label-arrow\">LinearRegression</label><div class=\"sk-toggleable__content\"><pre>LinearRegression()</pre></div></div></div></div></div>"
      ],
      "text/plain": [
       "LinearRegression()"
      ]
     },
     "execution_count": 159,
     "metadata": {},
     "output_type": "execute_result"
    }
   ],
   "source": [
    "from sklearn import linear_model\n",
    "\n",
    "modelo_linear_padrao = linear_model.LinearRegression()\n",
    "modelo_linear_padrao.fit(X_treino, y_treino)"
   ]
  },
  {
   "cell_type": "markdown",
   "id": "c1b12a4d-27e8-49f9-9123-af1206a1d7c9",
   "metadata": {},
   "source": [
    "Para aferirmos a performance de nosso modelo usaremos a métrica de raiz do erro quadrático médio (RMSE), que reporta a performance do modelo em um valor numérico na mesma unidade do seu target. Não aprofundaremos nesse tema pois nosso objetivo com esse notebook são os modelos lineares, mas se ficou curioso consulte: https://scikit-learn.org/stable/modules/classes.html#module-sklearn.metric . Utilisamos também a biblioteca scikit learn para o cálculo do RMSE. <br>\n",
    "É válido lembrar que quanto menor o RMSE melhor a qualidade preditiva do modelo."
   ]
  },
  {
   "cell_type": "code",
   "execution_count": 160,
   "id": "3ce21560-dfee-4934-85a2-8361e2822234",
   "metadata": {},
   "outputs": [
    {
     "name": "stdout",
     "output_type": "stream",
     "text": [
      "O RMSE do modelo foi de 363.88220526145136 unidades de y.\n"
     ]
    }
   ],
   "source": [
    "from sklearn.metrics import mean_squared_error\n",
    "\n",
    "X_verdadeiro_ml = X_teste\n",
    "y_verdadeiro_ml = y_teste\n",
    "\n",
    "y_previsto_ml = modelo_linear_padrao.predict(X_verdadeiro_ml)\n",
    "\n",
    "RMSE = mean_squared_error(y_verdadeiro_ml, y_previsto_ml, squared=False)\n",
    "\n",
    "print(f\"O RMSE do modelo foi de {RMSE} unidades de y.\")"
   ]
  },
  {
   "cell_type": "markdown",
   "id": "094f0802-4315-4b3b-bfe1-44a69b10ef19",
   "metadata": {},
   "source": [
    "Plotando um gráfico com os dados originais do dataset X os dados previtos pelo modelo:"
   ]
  },
  {
   "cell_type": "code",
   "execution_count": 161,
   "id": "b2f614bd-ec6b-4870-9f1f-e9438b04dc07",
   "metadata": {},
   "outputs": [
    {
     "data": {
      "text/plain": [
       "Text(0, 0.5, 'Previsão')"
      ]
     },
     "execution_count": 161,
     "metadata": {},
     "output_type": "execute_result"
    },
    {
     "data": {
      "image/png": "[encoded data removed]",
      "text/plain": [
       "<Figure size 640x480 with 1 Axes>"
      ]
     },
     "metadata": {},
     "output_type": "display_data"
    }
   ],
   "source": [
    "figura, eixo = plt.subplots()\n",
    "\n",
    "x = np.array(y_verdadeiro_ml)\n",
    "y = np.array(y_previsto_ml)\n",
    "\n",
    "eixo.plot(\n",
    "    x, \n",
    "    y,\n",
    "    marker=\"o\",\n",
    "    linestyle=\"none\",)\n",
    "\n",
    "eixo.set_title(\"Modelo de Regressão Linear\")\n",
    "eixo.set_xlabel(\"Dados reais\")\n",
    "eixo.set_ylabel(\"Previsão\")"
   ]
  },
  {
   "cell_type": "markdown",
   "id": "03fab6a5-d547-4346-83eb-139f5a86c860",
   "metadata": {},
   "source": [
    "Perceba que para um modelo de regressão linear perfeito o que teríamos que observar é uma reta, o que não acontece. Justamente por causa do grande número de variáveis que discutimos anteriormente.<br>\n",
    "\n",
    "Para resolver tal problema foram elaborados, através da história, alguns métodos de contorno.\n",
    "Hoje, estudaremos hoje o modelo linear <b>Lasso</b>. Este modelo tem como finalidade encontrar um estimador de uma regressão linear que possui risco menor que outros modelos lineares, como o de mínimos quadrados, ou seja reduzir o erro. O lasso possui solução rápida e garantia teórica.<br><br>\n",
    "O lasso consiste em encontrar uma solução β que minimize a soma de seu erro quadrático médio com uma medida de complexidade de β (Figura 1). A ideia é reduzir a variância do estimador de mínimos quadrados. Matematicamente temos que:\n",
    "<img src=\"fig2.PNG\">\n",
    "<br>\n",
    "A escolha de λ é feita por validação cruzada. βs são os coeficiente lineares e d é a quatidade desses coeficientes. Não entraremos em detalhes técnicos aqui, para mais detalher consulte: https://scikit-learn.org/stable/modules/generated/sklearn.linear_model.Lasso.html#sklearn.linear_model.Lasso . \n",
    "<br><br>\n",
    "Agora que já entendemos um pouco mais sobre o modelo lasso vamos calculá-lo, usando a biblioteca scikit learn. ^-^ <br>\n",
    "Nosso dataset já está separados nas featurs e targets, em dados numéricos, sem valores não preenchidos e separados nos grupos testes e de treino, então basta calcular!"
   ]
  },
  {
   "cell_type": "code",
   "execution_count": 162,
   "id": "9018fd8a-bc99-46f9-8aab-95e2009959b5",
   "metadata": {},
   "outputs": [
    {
     "data": {
      "text/html": [
       "<style>#sk-container-id-22 {color: black;background-color: white;}#sk-container-id-22 pre{padding: 0;}#sk-container-id-22 div.sk-toggleable {background-color: white;}#sk-container-id-22 label.sk-toggleable__label {cursor: pointer;display: block;width: 100%;margin-bottom: 0;padding: 0.3em;box-sizing: border-box;text-align: center;}#sk-container-id-22 label.sk-toggleable__label-arrow:before {content: \"▸\";float: left;margin-right: 0.25em;color: #696969;}#sk-container-id-22 label.sk-toggleable__label-arrow:hover:before {color: black;}#sk-container-id-22 div.sk-estimator:hover label.sk-toggleable__label-arrow:before {color: black;}#sk-container-id-22 div.sk-toggleable__content {max-height: 0;max-width: 0;overflow: hidden;text-align: left;background-color: #f0f8ff;}#sk-container-id-22 div.sk-toggleable__content pre {margin: 0.2em;color: black;border-radius: 0.25em;background-color: #f0f8ff;}#sk-container-id-22 input.sk-toggleable__control:checked~div.sk-toggleable__content {max-height: 200px;max-width: 100%;overflow: auto;}#sk-container-id-22 input.sk-toggleable__control:checked~label.sk-toggleable__label-arrow:before {content: \"▾\";}#sk-container-id-22 div.sk-estimator input.sk-toggleable__control:checked~label.sk-toggleable__label {background-color: #d4ebff;}#sk-container-id-22 div.sk-label input.sk-toggleable__control:checked~label.sk-toggleable__label {background-color: #d4ebff;}#sk-container-id-22 input.sk-hidden--visually {border: 0;clip: rect(1px 1px 1px 1px);clip: rect(1px, 1px, 1px, 1px);height: 1px;margin: -1px;overflow: hidden;padding: 0;position: absolute;width: 1px;}#sk-container-id-22 div.sk-estimator {font-family: monospace;background-color: #f0f8ff;border: 1px dotted black;border-radius: 0.25em;box-sizing: border-box;margin-bottom: 0.5em;}#sk-container-id-22 div.sk-estimator:hover {background-color: #d4ebff;}#sk-container-id-22 div.sk-parallel-item::after {content: \"\";width: 100%;border-bottom: 1px solid gray;flex-grow: 1;}#sk-container-id-22 div.sk-label:hover label.sk-toggleable__label {background-color: #d4ebff;}#sk-container-id-22 div.sk-serial::before {content: \"\";position: absolute;border-left: 1px solid gray;box-sizing: border-box;top: 0;bottom: 0;left: 50%;z-index: 0;}#sk-container-id-22 div.sk-serial {display: flex;flex-direction: column;align-items: center;background-color: white;padding-right: 0.2em;padding-left: 0.2em;position: relative;}#sk-container-id-22 div.sk-item {position: relative;z-index: 1;}#sk-container-id-22 div.sk-parallel {display: flex;align-items: stretch;justify-content: center;background-color: white;position: relative;}#sk-container-id-22 div.sk-item::before, #sk-container-id-22 div.sk-parallel-item::before {content: \"\";position: absolute;border-left: 1px solid gray;box-sizing: border-box;top: 0;bottom: 0;left: 50%;z-index: -1;}#sk-container-id-22 div.sk-parallel-item {display: flex;flex-direction: column;z-index: 1;position: relative;background-color: white;}#sk-container-id-22 div.sk-parallel-item:first-child::after {align-self: flex-end;width: 50%;}#sk-container-id-22 div.sk-parallel-item:last-child::after {align-self: flex-start;width: 50%;}#sk-container-id-22 div.sk-parallel-item:only-child::after {width: 0;}#sk-container-id-22 div.sk-dashed-wrapped {border: 1px dashed gray;margin: 0 0.4em 0.5em 0.4em;box-sizing: border-box;padding-bottom: 0.4em;background-color: white;}#sk-container-id-22 div.sk-label label {font-family: monospace;font-weight: bold;display: inline-block;line-height: 1.2em;}#sk-container-id-22 div.sk-label-container {text-align: center;}#sk-container-id-22 div.sk-container {/* jupyter's `normalize.less` sets `[hidden] { display: none; }` but bootstrap.min.css set `[hidden] { display: none !important; }` so we also need the `!important` here to be able to override the default hidden behavior on the sphinx rendered scikit-learn.org. See: https://github.com/scikit-learn/scikit-learn/issues/21755 */display: inline-block !important;position: relative;}#sk-container-id-22 div.sk-text-repr-fallback {display: none;}</style><div id=\"sk-container-id-22\" class=\"sk-top-container\"><div class=\"sk-text-repr-fallback\"><pre>Lasso(alpha=0.1)</pre><b>In a Jupyter environment, please rerun this cell to show the HTML representation or trust the notebook. <br />On GitHub, the HTML representation is unable to render, please try loading this page with nbviewer.org.</b></div><div class=\"sk-container\" hidden><div class=\"sk-item\"><div class=\"sk-estimator sk-toggleable\"><input class=\"sk-toggleable__control sk-hidden--visually\" id=\"sk-estimator-id-22\" type=\"checkbox\" checked><label for=\"sk-estimator-id-22\" class=\"sk-toggleable__label sk-toggleable__label-arrow\">Lasso</label><div class=\"sk-toggleable__content\"><pre>Lasso(alpha=0.1)</pre></div></div></div></div></div>"
      ],
      "text/plain": [
       "Lasso(alpha=0.1)"
      ]
     },
     "execution_count": 162,
     "metadata": {},
     "output_type": "execute_result"
    }
   ],
   "source": [
    "from sklearn import linear_model\n",
    "\n",
    "modelo1 = linear_model.Lasso(alpha=0.1)\n",
    "modelo1.fit(X_treino, y_treino)"
   ]
  },
  {
   "cell_type": "markdown",
   "id": "704904ce-2239-45a6-9fb5-21a215ae2fb7",
   "metadata": {},
   "source": [
    "Da mesma forma que o modelo anterior vamos calcular o RMSE como métrica de erro do modelo."
   ]
  },
  {
   "cell_type": "code",
   "execution_count": 163,
   "id": "3be0e868-f52a-44d0-aae8-49170548dfcc",
   "metadata": {},
   "outputs": [
    {
     "name": "stdout",
     "output_type": "stream",
     "text": [
      "O RMSE do modelo foi de 363.9004008167544 unidades de y.\n"
     ]
    }
   ],
   "source": [
    "from sklearn.metrics import mean_squared_error\n",
    "\n",
    "X_verdadeiro = X_teste\n",
    "y_verdadeiro = y_teste\n",
    "\n",
    "y_previsto = modelo1.predict(X_verdadeiro)\n",
    "\n",
    "RMSE = mean_squared_error(y_verdadeiro, y_previsto, squared=False)\n",
    "\n",
    "print(f\"O RMSE do modelo foi de {RMSE} unidades de y.\")"
   ]
  },
  {
   "cell_type": "markdown",
   "id": "f2786e77-1540-447f-ac94-930f2e86c673",
   "metadata": {},
   "source": [
    "Plotando um gráfico com os dados originais do dataset X os dados previtos pelo modelo lasso:"
   ]
  },
  {
   "cell_type": "code",
   "execution_count": 164,
   "id": "ab14bbc0-95e9-425b-8734-031f3e394894",
   "metadata": {},
   "outputs": [
    {
     "data": {
      "text/plain": [
       "Text(0, 0.5, 'Previsão')"
      ]
     },
     "execution_count": 164,
     "metadata": {},
     "output_type": "execute_result"
    },
    {
     "data": {
      "image/png": "[encoded data removed]",
      "text/plain": [
       "<Figure size 640x480 with 1 Axes>"
      ]
     },
     "metadata": {},
     "output_type": "display_data"
    }
   ],
   "source": [
    "figura, eixo = plt.subplots()\n",
    "\n",
    "x = np.array(y_verdadeiro)\n",
    "y = np.array(y_previsto)\n",
    "\n",
    "eixo.plot(\n",
    "    x, \n",
    "    y,\n",
    "    marker=\"o\",\n",
    "    linestyle=\"none\",)\n",
    "\n",
    "eixo.set_title(\"Modelo Lasso\")\n",
    "eixo.set_xlabel(\"Dados reais\")\n",
    "eixo.set_ylabel(\"Previsão\")"
   ]
  },
  {
   "cell_type": "markdown",
   "id": "7b64eb8d-945c-4fe8-8431-70b197bdb8e6",
   "metadata": {},
   "source": [
    "Com tais análises, notamos que o modelo Lasso em quantidade muito pequena pior que o modelo linear: RMSE do modelo linear padrão de 363.88220526145136 e do Lasso de 363.9004008167544. Isso se deve pelo dataset escolhido como exemplo não ser o melhor aconselhado para tal modelo, ele contém poucas features, ou seja, um d baixo (Figura 1)."
   ]
  },
  {
   "cell_type": "markdown",
   "id": "38f87b1f-8d31-4210-9f4c-6d9ca464eca4",
   "metadata": {},
   "source": [
    "Para mais informações sobre a biblioteca scikit learn consulte: https://scikit-learn.org/stable/index.html"
   ]
  },
  {
   "cell_type": "markdown",
   "id": "e3f8bafc-f7c3-4fc8-9da2-f467eb6c675f",
   "metadata": {},
   "source": [
    "## Referências:"
   ]
  },
  {
   "cell_type": "markdown",
   "id": "e303c454-8fd4-4aa9-adc7-986d75ea2be8",
   "metadata": {},
   "source": [
    "An introduction to seaborn — seaborn 0.12.2 documentation. Disponível em: <https://seaborn.pydata.org/tutorial/introduction.html?highlight=dataset>. <br><br>\n",
    "SCIKIT-LEARN. scikit-learn: machine learning in Python — scikit-learn 0.20.3 documentation. Disponível em: <https://scikit-learn.org/stable/index.html>. <br><br>\n",
    "\n",
    "‌CASSAR, D. R. k-NN com scikit-learn.(2023) <br><br>\n",
    "\n",
    "CASSAR, D. R. Regressão linear.(2023) <br><br>\n",
    "\n",
    "CASSAR, D. R. Avaliação de modelos: a estratégia de divisão entre treino e teste.(2023) <br><br>\n",
    "\n",
    "IZBICKI, Rafael.Aprendizado de máquina: uma abordagem estatística, 1a edição.(2020)\n",
    "‌"
   ]
  },
  {
   "cell_type": "code",
   "execution_count": null,
   "id": "de9af165-9762-4444-a0b6-7634e428b36a",
   "metadata": {},
   "outputs": [],
   "source": []
  }
 ],
 "metadata": {
  "kernelspec": {
   "display_name": "ilumpy",
   "language": "python",
   "name": "ilumpy"
  },
  "language_info": {
   "codemirror_mode": {
    "name": "ipython",
    "version": 3
   },
   "file_extension": ".py",
   "mimetype": "text/x-python",
   "name": "python",
   "nbconvert_exporter": "python",
   "pygments_lexer": "ipython3",
   "version": "3.10.8"
  }
 },
 "nbformat": 4,
 "nbformat_minor": 5
}
