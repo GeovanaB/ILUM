{
 "cells": [
  {
   "cell_type": "markdown",
   "id": "4cff5bc9-e454-41a4-908c-7f48a8e16eef",
   "metadata": {},
   "source": [
    "## Modelos 03"
   ]
  },
  {
   "cell_type": "markdown",
   "id": "38fd8cf6-0a11-48ea-b373-e8642d75eae0",
   "metadata": {},
   "source": [
    "<b>Se informe sobre outros modelos lineares que existem. Escolha um desses modelos e faça um notebook didático mostrando como este modelo funciona e como ele se difere do modelo linear estudado em sala de aula. Em um conjunto de dados da sua escolha, treine um modelo linear múltiplo e compare o resultado com o modelo linear que você escolheu. Sua comparação deve levar em conta alguma métrica (como RMSE, por exemplo). Gráficos são muito bem-vindos!</b>"
   ]
  },
  {
   "attachments": {
    "de81f7e9-6561-42ef-8d57-8f1efdd7a56d.png": {
     "image/png": "[encoded data removed]"
    }
   },
   "cell_type": "markdown",
   "id": "4a5b28f8-250d-4e75-92c5-6534fc125d84",
   "metadata": {},
   "source": [
    "Seguindo o estudo de modelos lineares, quando há muitas covariáveis - isto é, d é grande (ver figura 1), possui baixo desempenho devido ao super-ajuste. Há muitos parâmetros a serem estimados e, portanto, a função de regressão estimada possui baixo poder preditivo. Em outras palavras, a variância do estimador resultante é alta pois muitos parâmetros devem ser estimados. Para resolver tal problema foram elaborados, através da história, alguns métodos de contorno.<br>\n",
    "\n",
    "![image.png](attachment:de81f7e9-6561-42ef-8d57-8f1efdd7a56d.png)\n",
    "\n",
    "Hoje, estudaremos hoje o modelo linear <b>Lasso</b>. Este modelo tem como finalidade encontrar um estimador de uma regressão linear que possui risco menor que outros modelos lineares, como o de mínimos quadrados. O lasso possui solução rápida e garantia teórica."
   ]
  },
  {
   "cell_type": "code",
   "execution_count": null,
   "id": "b6b4c9e1-a7da-4690-b609-2cab5a55c54d",
   "metadata": {},
   "outputs": [],
   "source": []
  },
  {
   "cell_type": "code",
   "execution_count": 113,
   "id": "48212799-79e9-43cb-a1d6-bf951ba0f5ce",
   "metadata": {},
   "outputs": [],
   "source": [
    "import pandas as pd\n",
    "import numpy as np\n",
    "import seaborn as sns\n",
    "from matplotlib import pyplot as plt"
   ]
  },
  {
   "cell_type": "code",
   "execution_count": 114,
   "id": "48c5841f-f5ed-4d18-a3f5-59b5d11df4f7",
   "metadata": {},
   "outputs": [],
   "source": [
    "df = sns.load_dataset(\"diamonds\")"
   ]
  },
  {
   "cell_type": "code",
   "execution_count": 115,
   "id": "d79f7ff1-5687-410b-b748-1de22e5d4ce2",
   "metadata": {},
   "outputs": [],
   "source": [
    "from sklearn.preprocessing import OrdinalEncoder\n",
    "\n",
    "x = df[\"cut\"].values.reshape(-1, 1)\n",
    "\n",
    "ordem = [[\"Fair\", \"Good\", \"Very Good\", \"Premium\", \"Ideal\"]]\n",
    "encoder = OrdinalEncoder(categories=ordem)\n",
    "\n",
    "encoder.fit(x)\n",
    "\n",
    "dados_convertidos = encoder.transform(x)\n",
    "\n",
    "idade_desnormalizada = encoder.inverse_transform(dados_convertidos)\n",
    "\n",
    "# Add as modificações no dataframe\n",
    "df[\"cut\"] = dados_convertidos"
   ]
  },
  {
   "cell_type": "code",
   "execution_count": 116,
   "id": "8df8a6dc-41c2-49bd-ae72-1051c41fabdf",
   "metadata": {},
   "outputs": [],
   "source": [
    "x = df[\"clarity\"].values.reshape(-1, 1)\n",
    "\n",
    "ordem = [[\"I1\", \"SI2\", \"SI1\", \"VS2\", \"VS1\", \"VVS2\", \"VVS1\", \"IF\"]]\n",
    "encoder = OrdinalEncoder(categories=ordem)\n",
    "\n",
    "encoder.fit(x)\n",
    "\n",
    "dados_convertidos = encoder.transform(x)\n",
    "\n",
    "idade_desnormalizada = encoder.inverse_transform(dados_convertidos)\n",
    "\n",
    "# Add as modificações no dataframe\n",
    "df[\"clarity\"] = dados_convertidos"
   ]
  },
  {
   "cell_type": "code",
   "execution_count": 117,
   "id": "8fa9406a-3f06-4509-8ca4-eb8c923d8480",
   "metadata": {},
   "outputs": [],
   "source": [
    "from sklearn.preprocessing import OneHotEncoder\n",
    "\n",
    "x = df[\"color\"].values.reshape(-1, 1)\n",
    "\n",
    "encoder = OneHotEncoder(sparse=False)\n",
    "\n",
    "encoder.fit(x)\n",
    "\n",
    "colunas = encoder.categories_\n",
    "\n",
    "dados_convertidos = encoder.transform(x)\n",
    "\n",
    "colunas_extras = pd.DataFrame(dados_convertidos, columns=encoder.get_feature_names_out([\"color\"]))\n",
    "\n",
    "df_completo = pd.concat([df, colunas_extras], axis=1)\n",
    "\n",
    "# df_completo"
   ]
  },
  {
   "cell_type": "code",
   "execution_count": 118,
   "id": "2e45ab5b-7ec0-4701-ad29-02e8fb2eeb39",
   "metadata": {},
   "outputs": [
    {
     "data": {
      "text/html": [
       "<div>\n",
       "<style scoped>\n",
       "    .dataframe tbody tr th:only-of-type {\n",
       "        vertical-align: middle;\n",
       "    }\n",
       "\n",
       "    .dataframe tbody tr th {\n",
       "        vertical-align: top;\n",
       "    }\n",
       "\n",
       "    .dataframe thead th {\n",
       "        text-align: right;\n",
       "    }\n",
       "</style>\n",
       "<table border=\"1\" class=\"dataframe\">\n",
       "  <thead>\n",
       "    <tr style=\"text-align: right;\">\n",
       "      <th></th>\n",
       "      <th>carat</th>\n",
       "      <th>cut</th>\n",
       "      <th>clarity</th>\n",
       "      <th>depth</th>\n",
       "      <th>table</th>\n",
       "      <th>price</th>\n",
       "      <th>x</th>\n",
       "      <th>y</th>\n",
       "      <th>z</th>\n",
       "      <th>color_D</th>\n",
       "      <th>color_E</th>\n",
       "      <th>color_F</th>\n",
       "      <th>color_G</th>\n",
       "      <th>color_H</th>\n",
       "      <th>color_I</th>\n",
       "      <th>color_J</th>\n",
       "    </tr>\n",
       "  </thead>\n",
       "  <tbody>\n",
       "    <tr>\n",
       "      <th>0</th>\n",
       "      <td>0.23</td>\n",
       "      <td>4.0</td>\n",
       "      <td>1.0</td>\n",
       "      <td>61.5</td>\n",
       "      <td>55.0</td>\n",
       "      <td>326</td>\n",
       "      <td>3.95</td>\n",
       "      <td>3.98</td>\n",
       "      <td>2.43</td>\n",
       "      <td>0.0</td>\n",
       "      <td>1.0</td>\n",
       "      <td>0.0</td>\n",
       "      <td>0.0</td>\n",
       "      <td>0.0</td>\n",
       "      <td>0.0</td>\n",
       "      <td>0.0</td>\n",
       "    </tr>\n",
       "    <tr>\n",
       "      <th>1</th>\n",
       "      <td>0.21</td>\n",
       "      <td>3.0</td>\n",
       "      <td>2.0</td>\n",
       "      <td>59.8</td>\n",
       "      <td>61.0</td>\n",
       "      <td>326</td>\n",
       "      <td>3.89</td>\n",
       "      <td>3.84</td>\n",
       "      <td>2.31</td>\n",
       "      <td>0.0</td>\n",
       "      <td>1.0</td>\n",
       "      <td>0.0</td>\n",
       "      <td>0.0</td>\n",
       "      <td>0.0</td>\n",
       "      <td>0.0</td>\n",
       "      <td>0.0</td>\n",
       "    </tr>\n",
       "    <tr>\n",
       "      <th>2</th>\n",
       "      <td>0.23</td>\n",
       "      <td>1.0</td>\n",
       "      <td>4.0</td>\n",
       "      <td>56.9</td>\n",
       "      <td>65.0</td>\n",
       "      <td>327</td>\n",
       "      <td>4.05</td>\n",
       "      <td>4.07</td>\n",
       "      <td>2.31</td>\n",
       "      <td>0.0</td>\n",
       "      <td>1.0</td>\n",
       "      <td>0.0</td>\n",
       "      <td>0.0</td>\n",
       "      <td>0.0</td>\n",
       "      <td>0.0</td>\n",
       "      <td>0.0</td>\n",
       "    </tr>\n",
       "    <tr>\n",
       "      <th>3</th>\n",
       "      <td>0.29</td>\n",
       "      <td>3.0</td>\n",
       "      <td>3.0</td>\n",
       "      <td>62.4</td>\n",
       "      <td>58.0</td>\n",
       "      <td>334</td>\n",
       "      <td>4.20</td>\n",
       "      <td>4.23</td>\n",
       "      <td>2.63</td>\n",
       "      <td>0.0</td>\n",
       "      <td>0.0</td>\n",
       "      <td>0.0</td>\n",
       "      <td>0.0</td>\n",
       "      <td>0.0</td>\n",
       "      <td>1.0</td>\n",
       "      <td>0.0</td>\n",
       "    </tr>\n",
       "    <tr>\n",
       "      <th>4</th>\n",
       "      <td>0.31</td>\n",
       "      <td>1.0</td>\n",
       "      <td>1.0</td>\n",
       "      <td>63.3</td>\n",
       "      <td>58.0</td>\n",
       "      <td>335</td>\n",
       "      <td>4.34</td>\n",
       "      <td>4.35</td>\n",
       "      <td>2.75</td>\n",
       "      <td>0.0</td>\n",
       "      <td>0.0</td>\n",
       "      <td>0.0</td>\n",
       "      <td>0.0</td>\n",
       "      <td>0.0</td>\n",
       "      <td>0.0</td>\n",
       "      <td>1.0</td>\n",
       "    </tr>\n",
       "    <tr>\n",
       "      <th>...</th>\n",
       "      <td>...</td>\n",
       "      <td>...</td>\n",
       "      <td>...</td>\n",
       "      <td>...</td>\n",
       "      <td>...</td>\n",
       "      <td>...</td>\n",
       "      <td>...</td>\n",
       "      <td>...</td>\n",
       "      <td>...</td>\n",
       "      <td>...</td>\n",
       "      <td>...</td>\n",
       "      <td>...</td>\n",
       "      <td>...</td>\n",
       "      <td>...</td>\n",
       "      <td>...</td>\n",
       "      <td>...</td>\n",
       "    </tr>\n",
       "    <tr>\n",
       "      <th>53935</th>\n",
       "      <td>0.72</td>\n",
       "      <td>4.0</td>\n",
       "      <td>2.0</td>\n",
       "      <td>60.8</td>\n",
       "      <td>57.0</td>\n",
       "      <td>2757</td>\n",
       "      <td>5.75</td>\n",
       "      <td>5.76</td>\n",
       "      <td>3.50</td>\n",
       "      <td>1.0</td>\n",
       "      <td>0.0</td>\n",
       "      <td>0.0</td>\n",
       "      <td>0.0</td>\n",
       "      <td>0.0</td>\n",
       "      <td>0.0</td>\n",
       "      <td>0.0</td>\n",
       "    </tr>\n",
       "    <tr>\n",
       "      <th>53936</th>\n",
       "      <td>0.72</td>\n",
       "      <td>1.0</td>\n",
       "      <td>2.0</td>\n",
       "      <td>63.1</td>\n",
       "      <td>55.0</td>\n",
       "      <td>2757</td>\n",
       "      <td>5.69</td>\n",
       "      <td>5.75</td>\n",
       "      <td>3.61</td>\n",
       "      <td>1.0</td>\n",
       "      <td>0.0</td>\n",
       "      <td>0.0</td>\n",
       "      <td>0.0</td>\n",
       "      <td>0.0</td>\n",
       "      <td>0.0</td>\n",
       "      <td>0.0</td>\n",
       "    </tr>\n",
       "    <tr>\n",
       "      <th>53937</th>\n",
       "      <td>0.70</td>\n",
       "      <td>2.0</td>\n",
       "      <td>2.0</td>\n",
       "      <td>62.8</td>\n",
       "      <td>60.0</td>\n",
       "      <td>2757</td>\n",
       "      <td>5.66</td>\n",
       "      <td>5.68</td>\n",
       "      <td>3.56</td>\n",
       "      <td>1.0</td>\n",
       "      <td>0.0</td>\n",
       "      <td>0.0</td>\n",
       "      <td>0.0</td>\n",
       "      <td>0.0</td>\n",
       "      <td>0.0</td>\n",
       "      <td>0.0</td>\n",
       "    </tr>\n",
       "    <tr>\n",
       "      <th>53938</th>\n",
       "      <td>0.86</td>\n",
       "      <td>3.0</td>\n",
       "      <td>1.0</td>\n",
       "      <td>61.0</td>\n",
       "      <td>58.0</td>\n",
       "      <td>2757</td>\n",
       "      <td>6.15</td>\n",
       "      <td>6.12</td>\n",
       "      <td>3.74</td>\n",
       "      <td>0.0</td>\n",
       "      <td>0.0</td>\n",
       "      <td>0.0</td>\n",
       "      <td>0.0</td>\n",
       "      <td>1.0</td>\n",
       "      <td>0.0</td>\n",
       "      <td>0.0</td>\n",
       "    </tr>\n",
       "    <tr>\n",
       "      <th>53939</th>\n",
       "      <td>0.75</td>\n",
       "      <td>4.0</td>\n",
       "      <td>1.0</td>\n",
       "      <td>62.2</td>\n",
       "      <td>55.0</td>\n",
       "      <td>2757</td>\n",
       "      <td>5.83</td>\n",
       "      <td>5.87</td>\n",
       "      <td>3.64</td>\n",
       "      <td>1.0</td>\n",
       "      <td>0.0</td>\n",
       "      <td>0.0</td>\n",
       "      <td>0.0</td>\n",
       "      <td>0.0</td>\n",
       "      <td>0.0</td>\n",
       "      <td>0.0</td>\n",
       "    </tr>\n",
       "  </tbody>\n",
       "</table>\n",
       "<p>53940 rows × 16 columns</p>\n",
       "</div>"
      ],
      "text/plain": [
       "       carat  cut  clarity  depth  table  price     x     y     z  color_D  \\\n",
       "0       0.23  4.0      1.0   61.5   55.0    326  3.95  3.98  2.43      0.0   \n",
       "1       0.21  3.0      2.0   59.8   61.0    326  3.89  3.84  2.31      0.0   \n",
       "2       0.23  1.0      4.0   56.9   65.0    327  4.05  4.07  2.31      0.0   \n",
       "3       0.29  3.0      3.0   62.4   58.0    334  4.20  4.23  2.63      0.0   \n",
       "4       0.31  1.0      1.0   63.3   58.0    335  4.34  4.35  2.75      0.0   \n",
       "...      ...  ...      ...    ...    ...    ...   ...   ...   ...      ...   \n",
       "53935   0.72  4.0      2.0   60.8   57.0   2757  5.75  5.76  3.50      1.0   \n",
       "53936   0.72  1.0      2.0   63.1   55.0   2757  5.69  5.75  3.61      1.0   \n",
       "53937   0.70  2.0      2.0   62.8   60.0   2757  5.66  5.68  3.56      1.0   \n",
       "53938   0.86  3.0      1.0   61.0   58.0   2757  6.15  6.12  3.74      0.0   \n",
       "53939   0.75  4.0      1.0   62.2   55.0   2757  5.83  5.87  3.64      1.0   \n",
       "\n",
       "       color_E  color_F  color_G  color_H  color_I  color_J  \n",
       "0          1.0      0.0      0.0      0.0      0.0      0.0  \n",
       "1          1.0      0.0      0.0      0.0      0.0      0.0  \n",
       "2          1.0      0.0      0.0      0.0      0.0      0.0  \n",
       "3          0.0      0.0      0.0      0.0      1.0      0.0  \n",
       "4          0.0      0.0      0.0      0.0      0.0      1.0  \n",
       "...        ...      ...      ...      ...      ...      ...  \n",
       "53935      0.0      0.0      0.0      0.0      0.0      0.0  \n",
       "53936      0.0      0.0      0.0      0.0      0.0      0.0  \n",
       "53937      0.0      0.0      0.0      0.0      0.0      0.0  \n",
       "53938      0.0      0.0      0.0      1.0      0.0      0.0  \n",
       "53939      0.0      0.0      0.0      0.0      0.0      0.0  \n",
       "\n",
       "[53940 rows x 16 columns]"
      ]
     },
     "execution_count": 118,
     "metadata": {},
     "output_type": "execute_result"
    }
   ],
   "source": [
    "df = df_completo.drop(\"color\", axis = 1)\n",
    "df"
   ]
  },
  {
   "cell_type": "code",
   "execution_count": 119,
   "id": "fd760b0d-d066-4661-9a52-fcd87c2cffc7",
   "metadata": {},
   "outputs": [
    {
     "data": {
      "text/plain": [
       "Text(0, 0.5, 'carat')"
      ]
     },
     "execution_count": 119,
     "metadata": {},
     "output_type": "execute_result"
    },
    {
     "data": {
      "image/png": "[encoded data removed]",
      "text/plain": [
       "<Figure size 640x480 with 1 Axes>"
      ]
     },
     "metadata": {},
     "output_type": "display_data"
    }
   ],
   "source": [
    "# vizualização dos dados\n",
    "\n",
    "x = df[\"price\"].values\n",
    "y = df[\"carat\"].values\n",
    "\n",
    "figura, eixo = plt.subplots()\n",
    "\n",
    "eixo.plot(x, y, marker=\"o\", linestyle=\"none\")\n",
    "eixo.set_xlabel(\"price\")\n",
    "eixo.set_ylabel(\"carat\")"
   ]
  },
  {
   "cell_type": "code",
   "execution_count": 43,
   "id": "244046e4-3bdb-4211-821c-b88d51b1c11d",
   "metadata": {},
   "outputs": [],
   "source": [
    "# Encontrando os parâmetros de um modelo linear\n",
    "\n"
   ]
  },
  {
   "cell_type": "code",
   "execution_count": 44,
   "id": "55e2b5fa-e0bb-4e22-b806-cf8f03ae662e",
   "metadata": {},
   "outputs": [
    {
     "name": "stdout",
     "output_type": "stream",
     "text": [
      "<class 'pandas.core.frame.DataFrame'>\n",
      "RangeIndex: 53940 entries, 0 to 53939\n",
      "Data columns (total 16 columns):\n",
      " #   Column   Non-Null Count  Dtype  \n",
      "---  ------   --------------  -----  \n",
      " 0   carat    53940 non-null  float64\n",
      " 1   cut      53940 non-null  float64\n",
      " 2   clarity  53940 non-null  float64\n",
      " 3   depth    53940 non-null  float64\n",
      " 4   table    53940 non-null  float64\n",
      " 5   price    53940 non-null  int64  \n",
      " 6   x        53940 non-null  float64\n",
      " 7   y        53940 non-null  float64\n",
      " 8   z        53940 non-null  float64\n",
      " 9   color_D  53940 non-null  float64\n",
      " 10  color_E  53940 non-null  float64\n",
      " 11  color_F  53940 non-null  float64\n",
      " 12  color_G  53940 non-null  float64\n",
      " 13  color_H  53940 non-null  float64\n",
      " 14  color_I  53940 non-null  float64\n",
      " 15  color_J  53940 non-null  float64\n",
      "dtypes: float64(15), int64(1)\n",
      "memory usage: 6.6 MB\n"
     ]
    }
   ],
   "source": [
    "# checando se todos meus dados são numéricos\n",
    "df.info()"
   ]
  },
  {
   "cell_type": "code",
   "execution_count": 45,
   "id": "dd81532b-89a0-4f88-be37-5af9b12ea6b3",
   "metadata": {},
   "outputs": [
    {
     "name": "stdout",
     "output_type": "stream",
     "text": [
      "carat      0\n",
      "cut        0\n",
      "clarity    0\n",
      "depth      0\n",
      "table      0\n",
      "price      0\n",
      "x          0\n",
      "y          0\n",
      "z          0\n",
      "color_D    0\n",
      "color_E    0\n",
      "color_F    0\n",
      "color_G    0\n",
      "color_H    0\n",
      "color_I    0\n",
      "color_J    0\n",
      "dtype: int64\n"
     ]
    }
   ],
   "source": [
    "# vendo se tem valores Nan\n",
    "print(df.isnull().sum())"
   ]
  },
  {
   "cell_type": "code",
   "execution_count": 124,
   "id": "e6251895-5fb1-496b-9e3f-c65279dad5ac",
   "metadata": {},
   "outputs": [],
   "source": [
    "dicionario_contendo_os_dados = {\n",
    "    \"altura\": [174, 182, 169, 162, 161, 188, 152, 160, 180, 153, 155, 170, 170, 191, 169, 176, 175, 170, 161, 184, 175, 176, 169, 170, 170, 171, 175],\n",
    "    \"num_sapato\": [42, 40, 37, 39, 36, 44, 32, 35, 40, 35, 35, 42, 40, 47, 39, 40, 40, 40, 39, 44, 42, 41, 42, 40, 38, 42, 41],\n",
    "    \"mes_aniversario\": [10, 5, 10, 9, 5, 11, 7, 5, 11, 5, 2, 3, 1, 11, 9, 10, 8,\n",
    "        5, 6, 2, 1, 6, 12, 5, 7, 3, 12],\n",
    "    \"num_livros_lidos\": [3, 5, 10, 20, 7, 7, 3, 34, 5, 7, 8, 7, 0, 15, 8, 5, 10,\n",
    "        2, 2, 13, 5, 32, 0, 4, 1, 2, 30],\n",
    "}\n",
    "\n",
    "df = pd.DataFrame.from_dict(dicionario_contendo_os_dados)"
   ]
  },
  {
   "cell_type": "code",
   "execution_count": 125,
   "id": "ed220fb5-fbc0-4ddf-9714-3ac5de75da3f",
   "metadata": {},
   "outputs": [],
   "source": [
    "from sklearn.linear_model import Lasso"
   ]
  },
  {
   "cell_type": "code",
   "execution_count": 126,
   "id": "509fcc80-2076-4c16-a9a0-0cab90db7b88",
   "metadata": {},
   "outputs": [],
   "source": [
    "x = df[\"altura\"].values\n",
    "y = df[\"num_sapato\"].values"
   ]
  },
  {
   "cell_type": "code",
   "execution_count": 121,
   "id": "f28b65b4-5c90-4598-8363-7dd6fa6b8fb8",
   "metadata": {},
   "outputs": [],
   "source": [
    "x = df[\"carat\"].values\n",
    "y = df[\"price\"].values"
   ]
  },
  {
   "cell_type": "code",
   "execution_count": 127,
   "id": "067b0f69-dbdb-429d-89ae-febf7d462385",
   "metadata": {},
   "outputs": [],
   "source": [
    "meu_array = np.array(x)\n",
    "original_array = np.array([meu_array])\n",
    "reshaped_array = original_array.reshape(1, -1)\n",
    "x = reshaped_array\n",
    "\n",
    "meu_array = np.array(y)\n",
    "original_array = np.array([y])\n",
    "reshaped_array = original_array.reshape(1, -1)\n",
    "y = reshaped_array"
   ]
  },
  {
   "cell_type": "code",
   "execution_count": 132,
   "id": "2b6b08b9-bfe2-4d54-ac83-de43448687b6",
   "metadata": {},
   "outputs": [
    {
     "name": "stderr",
     "output_type": "stream",
     "text": [
      "c:\\venv\\ilumpy\\lib\\site-packages\\sklearn\\linear_model\\_coordinate_descent.py:648: ConvergenceWarning: Objective did not converge. You might want to increase the number of iterations, check the scale of the features or consider increasing regularisation. Duality gap: 0.000e+00, tolerance: 0.000e+00\n",
      "  model = cd_fast.enet_coordinate_descent(\n"
     ]
    },
    {
     "data": {
      "text/html": [
       "<style>#sk-container-id-10 {color: black;background-color: white;}#sk-container-id-10 pre{padding: 0;}#sk-container-id-10 div.sk-toggleable {background-color: white;}#sk-container-id-10 label.sk-toggleable__label {cursor: pointer;display: block;width: 100%;margin-bottom: 0;padding: 0.3em;box-sizing: border-box;text-align: center;}#sk-container-id-10 label.sk-toggleable__label-arrow:before {content: \"▸\";float: left;margin-right: 0.25em;color: #696969;}#sk-container-id-10 label.sk-toggleable__label-arrow:hover:before {color: black;}#sk-container-id-10 div.sk-estimator:hover label.sk-toggleable__label-arrow:before {color: black;}#sk-container-id-10 div.sk-toggleable__content {max-height: 0;max-width: 0;overflow: hidden;text-align: left;background-color: #f0f8ff;}#sk-container-id-10 div.sk-toggleable__content pre {margin: 0.2em;color: black;border-radius: 0.25em;background-color: #f0f8ff;}#sk-container-id-10 input.sk-toggleable__control:checked~div.sk-toggleable__content {max-height: 200px;max-width: 100%;overflow: auto;}#sk-container-id-10 input.sk-toggleable__control:checked~label.sk-toggleable__label-arrow:before {content: \"▾\";}#sk-container-id-10 div.sk-estimator input.sk-toggleable__control:checked~label.sk-toggleable__label {background-color: #d4ebff;}#sk-container-id-10 div.sk-label input.sk-toggleable__control:checked~label.sk-toggleable__label {background-color: #d4ebff;}#sk-container-id-10 input.sk-hidden--visually {border: 0;clip: rect(1px 1px 1px 1px);clip: rect(1px, 1px, 1px, 1px);height: 1px;margin: -1px;overflow: hidden;padding: 0;position: absolute;width: 1px;}#sk-container-id-10 div.sk-estimator {font-family: monospace;background-color: #f0f8ff;border: 1px dotted black;border-radius: 0.25em;box-sizing: border-box;margin-bottom: 0.5em;}#sk-container-id-10 div.sk-estimator:hover {background-color: #d4ebff;}#sk-container-id-10 div.sk-parallel-item::after {content: \"\";width: 100%;border-bottom: 1px solid gray;flex-grow: 1;}#sk-container-id-10 div.sk-label:hover label.sk-toggleable__label {background-color: #d4ebff;}#sk-container-id-10 div.sk-serial::before {content: \"\";position: absolute;border-left: 1px solid gray;box-sizing: border-box;top: 0;bottom: 0;left: 50%;z-index: 0;}#sk-container-id-10 div.sk-serial {display: flex;flex-direction: column;align-items: center;background-color: white;padding-right: 0.2em;padding-left: 0.2em;position: relative;}#sk-container-id-10 div.sk-item {position: relative;z-index: 1;}#sk-container-id-10 div.sk-parallel {display: flex;align-items: stretch;justify-content: center;background-color: white;position: relative;}#sk-container-id-10 div.sk-item::before, #sk-container-id-10 div.sk-parallel-item::before {content: \"\";position: absolute;border-left: 1px solid gray;box-sizing: border-box;top: 0;bottom: 0;left: 50%;z-index: -1;}#sk-container-id-10 div.sk-parallel-item {display: flex;flex-direction: column;z-index: 1;position: relative;background-color: white;}#sk-container-id-10 div.sk-parallel-item:first-child::after {align-self: flex-end;width: 50%;}#sk-container-id-10 div.sk-parallel-item:last-child::after {align-self: flex-start;width: 50%;}#sk-container-id-10 div.sk-parallel-item:only-child::after {width: 0;}#sk-container-id-10 div.sk-dashed-wrapped {border: 1px dashed gray;margin: 0 0.4em 0.5em 0.4em;box-sizing: border-box;padding-bottom: 0.4em;background-color: white;}#sk-container-id-10 div.sk-label label {font-family: monospace;font-weight: bold;display: inline-block;line-height: 1.2em;}#sk-container-id-10 div.sk-label-container {text-align: center;}#sk-container-id-10 div.sk-container {/* jupyter's `normalize.less` sets `[hidden] { display: none; }` but bootstrap.min.css set `[hidden] { display: none !important; }` so we also need the `!important` here to be able to override the default hidden behavior on the sphinx rendered scikit-learn.org. See: https://github.com/scikit-learn/scikit-learn/issues/21755 */display: inline-block !important;position: relative;}#sk-container-id-10 div.sk-text-repr-fallback {display: none;}</style><div id=\"sk-container-id-10\" class=\"sk-top-container\"><div class=\"sk-text-repr-fallback\"><pre>Lasso()</pre><b>In a Jupyter environment, please rerun this cell to show the HTML representation or trust the notebook. <br />On GitHub, the HTML representation is unable to render, please try loading this page with nbviewer.org.</b></div><div class=\"sk-container\" hidden><div class=\"sk-item\"><div class=\"sk-estimator sk-toggleable\"><input class=\"sk-toggleable__control sk-hidden--visually\" id=\"sk-estimator-id-10\" type=\"checkbox\" checked><label for=\"sk-estimator-id-10\" class=\"sk-toggleable__label sk-toggleable__label-arrow\">Lasso</label><div class=\"sk-toggleable__content\"><pre>Lasso()</pre></div></div></div></div></div>"
      ],
      "text/plain": [
       "Lasso()"
      ]
     },
     "execution_count": 132,
     "metadata": {},
     "output_type": "execute_result"
    }
   ],
   "source": [
    "modelo1 = Lasso(fit_intercept = True)\n",
    "modelo1.fit(x, y)\n",
    "\n",
    "\n",
    "\n",
    "\n",
    "# from sklearn import linear_model\n",
    "# >>> reg = linear_model.Lasso(alpha=0.1)\n",
    "# >>> reg.fit([[0, 0], [1, 1]], [0, 1])\n",
    "# Lasso(alpha=0.1)\n",
    "# >>> reg.predict([[1, 1]])\n",
    "# array([0.8])"
   ]
  },
  {
   "cell_type": "code",
   "execution_count": 137,
   "id": "8bb640cf-ce9e-4bec-8e75-ab4ed16958e8",
   "metadata": {},
   "outputs": [
    {
     "ename": "ValueError",
     "evalue": "X has 2 features, but Lasso is expecting 27 features as input.",
     "output_type": "error",
     "traceback": [
      "\u001b[1;31m---------------------------------------------------------------------------\u001b[0m",
      "\u001b[1;31mValueError\u001b[0m                                Traceback (most recent call last)",
      "Cell \u001b[1;32mIn [137], line 1\u001b[0m\n\u001b[1;32m----> 1\u001b[0m \u001b[43mmodelo1\u001b[49m\u001b[38;5;241;43m.\u001b[39;49m\u001b[43mpredict\u001b[49m\u001b[43m(\u001b[49m\u001b[43mnp\u001b[49m\u001b[38;5;241;43m.\u001b[39;49m\u001b[43marray\u001b[49m\u001b[43m(\u001b[49m\u001b[43m[\u001b[49m\u001b[43m[\u001b[49m\u001b[38;5;241;43m180\u001b[39;49m\u001b[43m,\u001b[49m\u001b[43m \u001b[49m\u001b[38;5;241;43m45\u001b[39;49m\u001b[43m]\u001b[49m\u001b[43m]\u001b[49m\u001b[43m)\u001b[49m\u001b[43m)\u001b[49m\n",
      "File \u001b[1;32mc:\\venv\\ilumpy\\lib\\site-packages\\sklearn\\linear_model\\_base.py:386\u001b[0m, in \u001b[0;36mLinearModel.predict\u001b[1;34m(self, X)\u001b[0m\n\u001b[0;32m    372\u001b[0m \u001b[38;5;28;01mdef\u001b[39;00m \u001b[38;5;21mpredict\u001b[39m(\u001b[38;5;28mself\u001b[39m, X):\n\u001b[0;32m    373\u001b[0m     \u001b[38;5;124;03m\"\"\"\u001b[39;00m\n\u001b[0;32m    374\u001b[0m \u001b[38;5;124;03m    Predict using the linear model.\u001b[39;00m\n\u001b[0;32m    375\u001b[0m \n\u001b[1;32m   (...)\u001b[0m\n\u001b[0;32m    384\u001b[0m \u001b[38;5;124;03m        Returns predicted values.\u001b[39;00m\n\u001b[0;32m    385\u001b[0m \u001b[38;5;124;03m    \"\"\"\u001b[39;00m\n\u001b[1;32m--> 386\u001b[0m     \u001b[38;5;28;01mreturn\u001b[39;00m \u001b[38;5;28;43mself\u001b[39;49m\u001b[38;5;241;43m.\u001b[39;49m\u001b[43m_decision_function\u001b[49m\u001b[43m(\u001b[49m\u001b[43mX\u001b[49m\u001b[43m)\u001b[49m\n",
      "File \u001b[1;32mc:\\venv\\ilumpy\\lib\\site-packages\\sklearn\\linear_model\\_coordinate_descent.py:1127\u001b[0m, in \u001b[0;36mElasticNet._decision_function\u001b[1;34m(self, X)\u001b[0m\n\u001b[0;32m   1125\u001b[0m     \u001b[38;5;28;01mreturn\u001b[39;00m safe_sparse_dot(X, \u001b[38;5;28mself\u001b[39m\u001b[38;5;241m.\u001b[39mcoef_\u001b[38;5;241m.\u001b[39mT, dense_output\u001b[38;5;241m=\u001b[39m\u001b[38;5;28;01mTrue\u001b[39;00m) \u001b[38;5;241m+\u001b[39m \u001b[38;5;28mself\u001b[39m\u001b[38;5;241m.\u001b[39mintercept_\n\u001b[0;32m   1126\u001b[0m \u001b[38;5;28;01melse\u001b[39;00m:\n\u001b[1;32m-> 1127\u001b[0m     \u001b[38;5;28;01mreturn\u001b[39;00m \u001b[38;5;28;43msuper\u001b[39;49m\u001b[43m(\u001b[49m\u001b[43m)\u001b[49m\u001b[38;5;241;43m.\u001b[39;49m\u001b[43m_decision_function\u001b[49m\u001b[43m(\u001b[49m\u001b[43mX\u001b[49m\u001b[43m)\u001b[49m\n",
      "File \u001b[1;32mc:\\venv\\ilumpy\\lib\\site-packages\\sklearn\\linear_model\\_base.py:369\u001b[0m, in \u001b[0;36mLinearModel._decision_function\u001b[1;34m(self, X)\u001b[0m\n\u001b[0;32m    366\u001b[0m \u001b[38;5;28;01mdef\u001b[39;00m \u001b[38;5;21m_decision_function\u001b[39m(\u001b[38;5;28mself\u001b[39m, X):\n\u001b[0;32m    367\u001b[0m     check_is_fitted(\u001b[38;5;28mself\u001b[39m)\n\u001b[1;32m--> 369\u001b[0m     X \u001b[38;5;241m=\u001b[39m \u001b[38;5;28;43mself\u001b[39;49m\u001b[38;5;241;43m.\u001b[39;49m\u001b[43m_validate_data\u001b[49m\u001b[43m(\u001b[49m\u001b[43mX\u001b[49m\u001b[43m,\u001b[49m\u001b[43m \u001b[49m\u001b[43maccept_sparse\u001b[49m\u001b[38;5;241;43m=\u001b[39;49m\u001b[43m[\u001b[49m\u001b[38;5;124;43m\"\u001b[39;49m\u001b[38;5;124;43mcsr\u001b[39;49m\u001b[38;5;124;43m\"\u001b[39;49m\u001b[43m,\u001b[49m\u001b[43m \u001b[49m\u001b[38;5;124;43m\"\u001b[39;49m\u001b[38;5;124;43mcsc\u001b[39;49m\u001b[38;5;124;43m\"\u001b[39;49m\u001b[43m,\u001b[49m\u001b[43m \u001b[49m\u001b[38;5;124;43m\"\u001b[39;49m\u001b[38;5;124;43mcoo\u001b[39;49m\u001b[38;5;124;43m\"\u001b[39;49m\u001b[43m]\u001b[49m\u001b[43m,\u001b[49m\u001b[43m \u001b[49m\u001b[43mreset\u001b[49m\u001b[38;5;241;43m=\u001b[39;49m\u001b[38;5;28;43;01mFalse\u001b[39;49;00m\u001b[43m)\u001b[49m\n\u001b[0;32m    370\u001b[0m     \u001b[38;5;28;01mreturn\u001b[39;00m safe_sparse_dot(X, \u001b[38;5;28mself\u001b[39m\u001b[38;5;241m.\u001b[39mcoef_\u001b[38;5;241m.\u001b[39mT, dense_output\u001b[38;5;241m=\u001b[39m\u001b[38;5;28;01mTrue\u001b[39;00m) \u001b[38;5;241m+\u001b[39m \u001b[38;5;28mself\u001b[39m\u001b[38;5;241m.\u001b[39mintercept_\n",
      "File \u001b[1;32mc:\\venv\\ilumpy\\lib\\site-packages\\sklearn\\base.py:600\u001b[0m, in \u001b[0;36mBaseEstimator._validate_data\u001b[1;34m(self, X, y, reset, validate_separately, **check_params)\u001b[0m\n\u001b[0;32m    597\u001b[0m     out \u001b[38;5;241m=\u001b[39m X, y\n\u001b[0;32m    599\u001b[0m \u001b[38;5;28;01mif\u001b[39;00m \u001b[38;5;129;01mnot\u001b[39;00m no_val_X \u001b[38;5;129;01mand\u001b[39;00m check_params\u001b[38;5;241m.\u001b[39mget(\u001b[38;5;124m\"\u001b[39m\u001b[38;5;124mensure_2d\u001b[39m\u001b[38;5;124m\"\u001b[39m, \u001b[38;5;28;01mTrue\u001b[39;00m):\n\u001b[1;32m--> 600\u001b[0m     \u001b[38;5;28;43mself\u001b[39;49m\u001b[38;5;241;43m.\u001b[39;49m\u001b[43m_check_n_features\u001b[49m\u001b[43m(\u001b[49m\u001b[43mX\u001b[49m\u001b[43m,\u001b[49m\u001b[43m \u001b[49m\u001b[43mreset\u001b[49m\u001b[38;5;241;43m=\u001b[39;49m\u001b[43mreset\u001b[49m\u001b[43m)\u001b[49m\n\u001b[0;32m    602\u001b[0m \u001b[38;5;28;01mreturn\u001b[39;00m out\n",
      "File \u001b[1;32mc:\\venv\\ilumpy\\lib\\site-packages\\sklearn\\base.py:400\u001b[0m, in \u001b[0;36mBaseEstimator._check_n_features\u001b[1;34m(self, X, reset)\u001b[0m\n\u001b[0;32m    397\u001b[0m     \u001b[38;5;28;01mreturn\u001b[39;00m\n\u001b[0;32m    399\u001b[0m \u001b[38;5;28;01mif\u001b[39;00m n_features \u001b[38;5;241m!=\u001b[39m \u001b[38;5;28mself\u001b[39m\u001b[38;5;241m.\u001b[39mn_features_in_:\n\u001b[1;32m--> 400\u001b[0m     \u001b[38;5;28;01mraise\u001b[39;00m \u001b[38;5;167;01mValueError\u001b[39;00m(\n\u001b[0;32m    401\u001b[0m         \u001b[38;5;124mf\u001b[39m\u001b[38;5;124m\"\u001b[39m\u001b[38;5;124mX has \u001b[39m\u001b[38;5;132;01m{\u001b[39;00mn_features\u001b[38;5;132;01m}\u001b[39;00m\u001b[38;5;124m features, but \u001b[39m\u001b[38;5;132;01m{\u001b[39;00m\u001b[38;5;28mself\u001b[39m\u001b[38;5;241m.\u001b[39m\u001b[38;5;18m__class__\u001b[39m\u001b[38;5;241m.\u001b[39m\u001b[38;5;18m__name__\u001b[39m\u001b[38;5;132;01m}\u001b[39;00m\u001b[38;5;124m \u001b[39m\u001b[38;5;124m\"\u001b[39m\n\u001b[0;32m    402\u001b[0m         \u001b[38;5;124mf\u001b[39m\u001b[38;5;124m\"\u001b[39m\u001b[38;5;124mis expecting \u001b[39m\u001b[38;5;132;01m{\u001b[39;00m\u001b[38;5;28mself\u001b[39m\u001b[38;5;241m.\u001b[39mn_features_in_\u001b[38;5;132;01m}\u001b[39;00m\u001b[38;5;124m features as input.\u001b[39m\u001b[38;5;124m\"\u001b[39m\n\u001b[0;32m    403\u001b[0m     )\n",
      "\u001b[1;31mValueError\u001b[0m: X has 2 features, but Lasso is expecting 27 features as input."
     ]
    }
   ],
   "source": [
    "modelo1.predict(np.array([[180, 45]]))"
   ]
  },
  {
   "cell_type": "code",
   "execution_count": null,
   "id": "81d01aad-6ec7-4418-a19b-69a5c036df23",
   "metadata": {},
   "outputs": [],
   "source": []
  },
  {
   "cell_type": "code",
   "execution_count": null,
   "id": "2a45d75f-17ee-4c12-ba5e-50df9d21b60a",
   "metadata": {},
   "outputs": [],
   "source": [
    "from sklearn import linear_model\n",
    "reg = linear_model.Lasso(alpha=0.1)\n",
    "reg.fit([[0, 0], [1, 1]], [0, 1])\n",
    "Lasso(alpha=0.1)\n",
    "reg.predict([[1, 1]])\n",
    "array([0.8])"
   ]
  },
  {
   "cell_type": "markdown",
   "id": "5c9bf1b4-530b-4c36-9040-04fb86aa8663",
   "metadata": {},
   "source": [
    "-- testando som"
   ]
  },
  {
   "cell_type": "code",
   "execution_count": null,
   "id": "962e7a08-6ba9-4f35-8741-1a74a79bda1d",
   "metadata": {},
   "outputs": [],
   "source": []
  }
 ],
 "metadata": {
  "kernelspec": {
   "display_name": "ilumpy",
   "language": "python",
   "name": "ilumpy"
  },
  "language_info": {
   "codemirror_mode": {
    "name": "ipython",
    "version": 3
   },
   "file_extension": ".py",
   "mimetype": "text/x-python",
   "name": "python",
   "nbconvert_exporter": "python",
   "pygments_lexer": "ipython3",
   "version": "3.10.8"
  }
 },
 "nbformat": 4,
 "nbformat_minor": 5
}
