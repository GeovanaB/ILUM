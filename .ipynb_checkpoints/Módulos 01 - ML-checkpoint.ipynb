{
 "cells": [
  {
   "cell_type": "markdown",
   "id": "2fe00483-d45b-4dfa-b337-1dbba6d00fa6",
   "metadata": {
    "tags": []
   },
   "source": [
    "**Módulos 01**\n",
    "========================="
   ]
  },
  {
   "cell_type": "markdown",
   "id": "6a37894c-0816-41d3-be31-23e87803d102",
   "metadata": {
    "tags": []
   },
   "source": [
    "## Iterações… iterações em todos os lugares"
   ]
  },
  {
   "cell_type": "markdown",
   "id": "54d1d882-d015-4fb1-9c25-ea7a2cca7ef0",
   "metadata": {},
   "source": [
    "**Grahcyanne's:** Geovana Bettero e Samira Oliveira\n",
    "\n",
    "---"
   ]
  },
  {
   "cell_type": "markdown",
   "id": "7298c162-79e6-4027-95af-8e6fa13cf94b",
   "metadata": {},
   "source": [
    "O módulo `itertools` permite criar, manipular e trabalhar com iterações de forma rápida e eficiente. Este módulo padroniza um conjunto básico de ferramentas rápidas e com eficiência de memória que são úteis sozinhas ou em combinação, formando iteradores complexos.<br>\n",
    "O itertools é aconselhado para a escrita de códigos mais concisos e eficientes, evitando loops complexos e repetitivos. No entanto, é importante entender como as funções do itertools funcionam para evitar erros sutis e garantir o uso correto.\n",
    "\n",
    "Existem três categorias de iteradores, são elas:"
   ]
  },
  {
   "cell_type": "markdown",
   "id": "5a6ba288-2325-4aea-95ff-94ea1b1483dd",
   "metadata": {},
   "source": [
    "<h3>Iteradores infinitos</h3> - \n",
    "Gera ações infinitas, sendo necessário mecanismos de parada para sua interrupção.\n",
    "\n",
    "- <b>count( )</b> - gera infinitos números igualmente espaçados. O número de partida e o espaçador são passados como parametro. Veja o exemplo:"
   ]
  },
  {
   "cell_type": "code",
   "execution_count": 40,
   "id": "b6d1584d-3dfc-4fb3-b84c-8b039a1bacc1",
   "metadata": {},
   "outputs": [
    {
     "name": "stdout",
     "output_type": "stream",
     "text": [
      "3\n",
      "8\n",
      "13\n",
      "18\n",
      "23\n"
     ]
    }
   ],
   "source": [
    "from itertools import count\n",
    "\n",
    "ex = count(start=3, step=5)\n",
    "\n",
    "# sequência dos 5 primeiros números da iteração count\n",
    "for _ in range(5):\n",
    "    print(next(ex))"
   ]
  },
  {
   "cell_type": "markdown",
   "id": "98b6d378-85fd-4542-9182-5d05446b146e",
   "metadata": {},
   "source": [
    "- <b>cycle( )</b> - gera um loop com a variável recebido como parâmetro, repetindo-a infinitas vezes. Veja o exemplo:"
   ]
  },
  {
   "cell_type": "code",
   "execution_count": 41,
   "id": "2a40464e-ef3e-482b-a85c-5521607ffe50",
   "metadata": {},
   "outputs": [
    {
     "name": "stdout",
     "output_type": "stream",
     "text": [
      "1\n",
      "2\n",
      "3\n",
      "1\n",
      "2\n"
     ]
    }
   ],
   "source": [
    "from itertools import cycle\n",
    "\n",
    "n = \"123\"\n",
    "\n",
    "cycle_123 = cycle(n)\n",
    "\n",
    "# sequência dos 5 primeiros números da iteração cycle\n",
    "for _ in range(5):\n",
    "    print(next(cycle_123))"
   ]
  },
  {
   "cell_type": "markdown",
   "id": "723fe32b-98b8-4294-bcfb-576795ca3113",
   "metadata": {},
   "source": [
    "- <b>repeat( )</b> - gera um loop com a variável recebida como parâmetro infinitas vezes, a menos que o argumento times seja especificado. Veja o exemplo:"
   ]
  },
  {
   "cell_type": "code",
   "execution_count": 42,
   "id": "18aab6a6-798e-4b58-9c36-76052cf99e1c",
   "metadata": {},
   "outputs": [
    {
     "name": "stdout",
     "output_type": "stream",
     "text": [
      "1\n",
      "1\n",
      "1\n",
      "1\n",
      "1\n"
     ]
    }
   ],
   "source": [
    "from itertools import repeat\n",
    "\n",
    "n = 1\n",
    "\n",
    "repete = repeat(n)\n",
    "\n",
    "# sequência dos 5 primeiros números da iteração repeat\n",
    "for _ in range(5):\n",
    "    print(next(repete))"
   ]
  },
  {
   "cell_type": "markdown",
   "id": "8948cdf7-6eda-4eec-a75b-41724bbfea7f",
   "metadata": {
    "tags": []
   },
   "source": [
    "<h3>Iteradores que terminam na sequência de entrada mais curta</h3> - \n",
    "São funções que combinam múltimos iteráveis, o resultado será obtido após o iterável mais curto seja totalmente percorido. Vejamos alguns exemplos dessas funções:\n",
    "\n",
    "- <b>zip_longest( )</b> - iterador que agrega elementos de cada um dos iteráveis passados por parâmetro. Se os iteráveis tiverem comprimento irregular, os valores ausentes serão preenchidos com fillvalue, também passados por parâmetro. A iteração continua até que o iterável mais longo se esgote. Veja o exemplo:"
   ]
  },
  {
   "cell_type": "code",
   "execution_count": 43,
   "id": "ad299ce2-0dcb-467c-850f-1cb30d1a1733",
   "metadata": {},
   "outputs": [
    {
     "name": "stdout",
     "output_type": "stream",
     "text": [
      "(1, 'A')\n",
      "(2, 'B')\n",
      "(3, '-')\n"
     ]
    }
   ],
   "source": [
    "from itertools import zip_longest\n",
    "\n",
    "iteravel_1 = [1, 2, 3]\n",
    "iteravel_2 = ['A', 'B']\n",
    "\n",
    "agregado = zip_longest(iteravel_1, iteravel_2, fillvalue='-')\n",
    "\n",
    "for par in agregado:\n",
    "    print(par)"
   ]
  },
  {
   "cell_type": "markdown",
   "id": "67464e51-fd40-4b03-9a55-f5caf10f5ab5",
   "metadata": {},
   "source": [
    "- <b>filterfalse( )</b> - função que retorna um iterador de elementos que não atende ao critério especificado, ou seja, critério = 'False'. Veja o exemplo:"
   ]
  },
  {
   "cell_type": "code",
   "execution_count": 44,
   "id": "ecffae66-3585-4975-b9d4-f1259ed8117d",
   "metadata": {},
   "outputs": [
    {
     "name": "stdout",
     "output_type": "stream",
     "text": [
      "cara\n",
      "cara\n",
      "cara\n",
      "cara\n",
      "cara\n",
      "cara\n"
     ]
    }
   ],
   "source": [
    "from itertools import filterfalse\n",
    "\n",
    "def eh_cara(lado):\n",
    "    return lado == 'coroa'\n",
    "\n",
    "arremecos = ['coroa', 'cara', 'coroa', 'coroa', 'cara', 'cara', 'cara', 'coroa', 'cara', 'cara']\n",
    "\n",
    "num_caras = filterfalse(eh_cara, arremecos)\n",
    "\n",
    "for cara in num_caras:\n",
    "    print(cara)"
   ]
  },
  {
   "cell_type": "markdown",
   "id": "d23a0fca-fc00-43f8-b690-957a06beaadb",
   "metadata": {},
   "source": [
    "- <b>dropwhile( )</b> -  iterador que elimina elementos do iterável desde que o predicado seja verdadeiro. Não produz nenhuma saída até que o primeiro elemento se torne falso, por isso, pode ter um longo tempo de inicialização. Veja o exemplo:"
   ]
  },
  {
   "cell_type": "code",
   "execution_count": 45,
   "id": "67e67c90-f356-45f5-a63d-e2d990988d7d",
   "metadata": {},
   "outputs": [
    {
     "name": "stdout",
     "output_type": "stream",
     "text": [
      "-67\n",
      "2\n",
      "31\n"
     ]
    }
   ],
   "source": [
    "from itertools import dropwhile\n",
    "\n",
    "def ver_lucrativo(lucro):\n",
    "    return lucro > 0\n",
    "\n",
    "investimentos = [789, 2343, 45, 12, 56, 2, 676, -67, 2, 31]\n",
    "\n",
    "mal_investimento = dropwhile(ver_lucrativo, investimentos)\n",
    "\n",
    "for acao in mal_investimento:\n",
    "    print(acao)"
   ]
  },
  {
   "cell_type": "markdown",
   "id": "94d66135-ec04-4cc2-9597-a8c7bb47f362",
   "metadata": {},
   "source": [
    "`Atenção` - Existem diversas funções do tipo \"iteradores que terminam na sequência de entrada mais curta\", tais como: groupby( ), islice( ), pairwise( ), starmap( ), tee( ), entre outras. Para saber mais procure a documentação oficial disponível em: https://docs.python.org/3/library/itertools.html"
   ]
  },
  {
   "cell_type": "markdown",
   "id": "2678003c-efd1-4bfa-8aa8-085f4347eafb",
   "metadata": {},
   "source": [
    "<h3>Iteradores combinatórios</h3> - \n",
    "Conjunto de funções que realizam diversas combinações entre o iterável fornecido. São interessantes devido a sua alta aplicabilidade, como na probabilidade e estatística.Veja essas funções:\n",
    "\n",
    "- <b>product( )</b> - iterador que gera o produto cartesiano entre iteráveis, podendo os repetir. Recebe como parâmetro os iteráveis e a quantidade de vezes de repetição esperada. Veja o exemplo:"
   ]
  },
  {
   "cell_type": "code",
   "execution_count": 66,
   "id": "b1753122-22ba-46c3-9e2a-6df65cd2adce",
   "metadata": {},
   "outputs": [
    {
     "name": "stdout",
     "output_type": "stream",
     "text": [
      "[(1, 1), (1, 2), (1, 3), (1, 4), (1, 5), (1, 6), (1, 7), (1, 8), (1, 9), (2, 1), (2, 2), (2, 3), (2, 4), (2, 5), (2, 6), (2, 7), (2, 8), (2, 9), (3, 1), (3, 2), (3, 3), (3, 4), (3, 5), (3, 6), (3, 7), (3, 8), (3, 9), (4, 1), (4, 2), (4, 3), (4, 4), (4, 5), (4, 6), (4, 7), (4, 8), (4, 9), (5, 1), (5, 2), (5, 3), (5, 4), (5, 5), (5, 6), (5, 7), (5, 8), (5, 9), (6, 1), (6, 2), (6, 3), (6, 4), (6, 5), (6, 6), (6, 7), (6, 8), (6, 9), (7, 1), (7, 2), (7, 3), (7, 4), (7, 5), (7, 6), (7, 7), (7, 8), (7, 9), (8, 1), (8, 2), (8, 3), (8, 4), (8, 5), (8, 6), (8, 7), (8, 8), (8, 9), (9, 1), (9, 2), (9, 3), (9, 4), (9, 5), (9, 6), (9, 7), (9, 8), (9, 9)]\n"
     ]
    }
   ],
   "source": [
    "from itertools import product\n",
    "\n",
    "lista = range(1,10)\n",
    "\n",
    "products_list = list(product(lista, repeat = 2))\n",
    "print(products_list)"
   ]
  },
  {
   "cell_type": "markdown",
   "id": "3cd45339-130b-46b5-a323-244124b96e83",
   "metadata": {},
   "source": [
    "Aqui, criamos a variável \"lista\" contendo um intervalo de valores. Depois, criamos uma segunda variável que vai armazenar uma lista com todos os produtos calculados utilizando o iterador `product()`. Note que como resultado é exibido todas os produtos possíveis. Contudo, podemos adicionar a função `len` para retornar apenas o número de elementos após a manipulação feita pelo `product()`:"
   ]
  },
  {
   "cell_type": "code",
   "execution_count": 62,
   "id": "ba2f9353-5c9c-4760-928b-767d7d60f04c",
   "metadata": {},
   "outputs": [
    {
     "name": "stdout",
     "output_type": "stream",
     "text": [
      "81\n"
     ]
    }
   ],
   "source": [
    "tamanho_products_list = len(list(product(lista, repeat = 2)))\n",
    "print(tamanho_products_list)"
   ]
  },
  {
   "cell_type": "markdown",
   "id": "be96e205-61c9-46a5-a6cb-bd84fa85a8ee",
   "metadata": {},
   "source": [
    "O argumento pode ser também uma string. Veja o exemplo:"
   ]
  },
  {
   "cell_type": "code",
   "execution_count": 64,
   "id": "bc0ef6fd-c8f7-4b02-8ecb-17d16d3dc3fe",
   "metadata": {},
   "outputs": [
    {
     "name": "stdout",
     "output_type": "stream",
     "text": [
      "[('G', 'G'), ('G', 'R'), ('G', 'A'), ('G', 'H'), ('G', 'C'), ('G', 'Y'), ('G', 'A'), ('G', 'N'), ('G', 'N'), ('G', 'E'), ('G', 'S'), ('R', 'G'), ('R', 'R'), ('R', 'A'), ('R', 'H'), ('R', 'C'), ('R', 'Y'), ('R', 'A'), ('R', 'N'), ('R', 'N'), ('R', 'E'), ('R', 'S'), ('A', 'G'), ('A', 'R'), ('A', 'A'), ('A', 'H'), ('A', 'C'), ('A', 'Y'), ('A', 'A'), ('A', 'N'), ('A', 'N'), ('A', 'E'), ('A', 'S'), ('H', 'G'), ('H', 'R'), ('H', 'A'), ('H', 'H'), ('H', 'C'), ('H', 'Y'), ('H', 'A'), ('H', 'N'), ('H', 'N'), ('H', 'E'), ('H', 'S'), ('C', 'G'), ('C', 'R'), ('C', 'A'), ('C', 'H'), ('C', 'C'), ('C', 'Y'), ('C', 'A'), ('C', 'N'), ('C', 'N'), ('C', 'E'), ('C', 'S'), ('Y', 'G'), ('Y', 'R'), ('Y', 'A'), ('Y', 'H'), ('Y', 'C'), ('Y', 'Y'), ('Y', 'A'), ('Y', 'N'), ('Y', 'N'), ('Y', 'E'), ('Y', 'S'), ('A', 'G'), ('A', 'R'), ('A', 'A'), ('A', 'H'), ('A', 'C'), ('A', 'Y'), ('A', 'A'), ('A', 'N'), ('A', 'N'), ('A', 'E'), ('A', 'S'), ('N', 'G'), ('N', 'R'), ('N', 'A'), ('N', 'H'), ('N', 'C'), ('N', 'Y'), ('N', 'A'), ('N', 'N'), ('N', 'N'), ('N', 'E'), ('N', 'S'), ('N', 'G'), ('N', 'R'), ('N', 'A'), ('N', 'H'), ('N', 'C'), ('N', 'Y'), ('N', 'A'), ('N', 'N'), ('N', 'N'), ('N', 'E'), ('N', 'S'), ('E', 'G'), ('E', 'R'), ('E', 'A'), ('E', 'H'), ('E', 'C'), ('E', 'Y'), ('E', 'A'), ('E', 'N'), ('E', 'N'), ('E', 'E'), ('E', 'S'), ('S', 'G'), ('S', 'R'), ('S', 'A'), ('S', 'H'), ('S', 'C'), ('S', 'Y'), ('S', 'A'), ('S', 'N'), ('S', 'N'), ('S', 'E'), ('S', 'S')]\n"
     ]
    }
   ],
   "source": [
    "products_gra = list(product(\"GRAHCYANNES\", repeat = 2))\n",
    "print(products_gra)"
   ]
  },
  {
   "cell_type": "markdown",
   "id": "319d52ab-1f17-43eb-bc53-fdaefe8fc42a",
   "metadata": {},
   "source": [
    "- <b>combinations( )</b> - iterador que gera todas as combinações possíveis de tamanho r do iterável, sem repetição. Recebe como parâmetro o iterável e o tamanho r da combinação. Veja o exemplo:"
   ]
  },
  {
   "cell_type": "code",
   "execution_count": null,
   "id": "f5e9f0f6-3d2a-4510-b7d8-ecb1771d7a2b",
   "metadata": {},
   "outputs": [
    {
     "name": "stdout",
     "output_type": "stream",
     "text": [
      "[(1, 2, 3), (1, 2, 4), (1, 2, 5), (1, 2, 6), (1, 2, 7), (1, 2, 8), (1, 2, 9), (1, 3, 4), (1, 3, 5), (1, 3, 6), (1, 3, 7), (1, 3, 8), (1, 3, 9), (1, 4, 5), (1, 4, 6), (1, 4, 7), (1, 4, 8), (1, 4, 9), (1, 5, 6), (1, 5, 7), (1, 5, 8), (1, 5, 9), (1, 6, 7), (1, 6, 8), (1, 6, 9), (1, 7, 8), (1, 7, 9), (1, 8, 9), (2, 3, 4), (2, 3, 5), (2, 3, 6), (2, 3, 7), (2, 3, 8), (2, 3, 9), (2, 4, 5), (2, 4, 6), (2, 4, 7), (2, 4, 8), (2, 4, 9), (2, 5, 6), (2, 5, 7), (2, 5, 8), (2, 5, 9), (2, 6, 7), (2, 6, 8), (2, 6, 9), (2, 7, 8), (2, 7, 9), (2, 8, 9), (3, 4, 5), (3, 4, 6), (3, 4, 7), (3, 4, 8), (3, 4, 9), (3, 5, 6), (3, 5, 7), (3, 5, 8), (3, 5, 9), (3, 6, 7), (3, 6, 8), (3, 6, 9), (3, 7, 8), (3, 7, 9), (3, 8, 9), (4, 5, 6), (4, 5, 7), (4, 5, 8), (4, 5, 9), (4, 6, 7), (4, 6, 8), (4, 6, 9), (4, 7, 8), (4, 7, 9), (4, 8, 9), (5, 6, 7), (5, 6, 8), (5, 6, 9), (5, 7, 8), (5, 7, 9), (5, 8, 9), (6, 7, 8), (6, 7, 9), (6, 8, 9), (7, 8, 9)]\n"
     ]
    }
   ],
   "source": [
    "from itertools import combinations\n",
    "\n",
    "lista = range(1,10)\n",
    "\n",
    "combinations_list = list(combinations(lista, 3))\n",
    "print(combinations_list)"
   ]
  },
  {
   "cell_type": "markdown",
   "id": "7a3cde07-4d79-4a87-bf13-b28b9f24d892",
   "metadata": {},
   "source": [
    "Fornece a combinação agrupadas em 3 elementos do iterável `lista`, sem reposição de elementos."
   ]
  },
  {
   "cell_type": "markdown",
   "id": "db3cf6bc-9503-4286-99ed-8a88a4496edc",
   "metadata": {},
   "source": [
    "- <b>permutations( )</b> - iterador que gera todas as permutações possíveis de tamanho r do iterável. Recebe como parâmetro o iterável e o tamanho r da permutação, se r não for especificado ou for None, o padrão de r será o comprimento do iterável e todas as permutações de comprimento total possíveis serão geradas. Veja o exemplo:"
   ]
  },
  {
   "cell_type": "code",
   "execution_count": 70,
   "id": "ebc66578-113f-44f1-87da-d2221f5a128c",
   "metadata": {},
   "outputs": [
    {
     "name": "stdout",
     "output_type": "stream",
     "text": [
      "[(1, 2), (1, 3), (1, 4), (1, 5), (1, 6), (1, 7), (1, 8), (1, 9), (2, 1), (2, 3), (2, 4), (2, 5), (2, 6), (2, 7), (2, 8), (2, 9), (3, 1), (3, 2), (3, 4), (3, 5), (3, 6), (3, 7), (3, 8), (3, 9), (4, 1), (4, 2), (4, 3), (4, 5), (4, 6), (4, 7), (4, 8), (4, 9), (5, 1), (5, 2), (5, 3), (5, 4), (5, 6), (5, 7), (5, 8), (5, 9), (6, 1), (6, 2), (6, 3), (6, 4), (6, 5), (6, 7), (6, 8), (6, 9), (7, 1), (7, 2), (7, 3), (7, 4), (7, 5), (7, 6), (7, 8), (7, 9), (8, 1), (8, 2), (8, 3), (8, 4), (8, 5), (8, 6), (8, 7), (8, 9), (9, 1), (9, 2), (9, 3), (9, 4), (9, 5), (9, 6), (9, 7), (9, 8)]\n"
     ]
    }
   ],
   "source": [
    "from itertools import permutations\n",
    "\n",
    "lista = range(1,10)\n",
    "\n",
    "permutations_list = list(permutations(lista, 2))\n",
    "print(permutations_list)"
   ]
  },
  {
   "cell_type": "markdown",
   "id": "8d314502-e3a2-4ee2-b429-cfa36b275314",
   "metadata": {},
   "source": [
    "Fornece a permutação entre elementos da variável `lista` (iterável) agrupadas em tamanhos de 2 elementos."
   ]
  },
  {
   "cell_type": "markdown",
   "id": "4046cf2e-b0aa-4770-b676-8c980c07ac1f",
   "metadata": {},
   "source": [
    "- <b>combinations_with_replacement( )</b> - iterador que gera todas as combinações possíveis de tamanho r do iterável, permitindo repetição. Recebe como parâmetro o iterável e o tamanho r da combinação. Sililar a função combinations( ), porém com repetição. Veja o exemplo:"
   ]
  },
  {
   "cell_type": "code",
   "execution_count": 71,
   "id": "1403d176-cb2f-4cc2-8cd2-a5d0d6490b7b",
   "metadata": {},
   "outputs": [
    {
     "name": "stdout",
     "output_type": "stream",
     "text": [
      "[(1, 1, 1), (1, 1, 2), (1, 1, 3), (1, 1, 4), (1, 1, 5), (1, 1, 6), (1, 1, 7), (1, 1, 8), (1, 1, 9), (1, 2, 2), (1, 2, 3), (1, 2, 4), (1, 2, 5), (1, 2, 6), (1, 2, 7), (1, 2, 8), (1, 2, 9), (1, 3, 3), (1, 3, 4), (1, 3, 5), (1, 3, 6), (1, 3, 7), (1, 3, 8), (1, 3, 9), (1, 4, 4), (1, 4, 5), (1, 4, 6), (1, 4, 7), (1, 4, 8), (1, 4, 9), (1, 5, 5), (1, 5, 6), (1, 5, 7), (1, 5, 8), (1, 5, 9), (1, 6, 6), (1, 6, 7), (1, 6, 8), (1, 6, 9), (1, 7, 7), (1, 7, 8), (1, 7, 9), (1, 8, 8), (1, 8, 9), (1, 9, 9), (2, 2, 2), (2, 2, 3), (2, 2, 4), (2, 2, 5), (2, 2, 6), (2, 2, 7), (2, 2, 8), (2, 2, 9), (2, 3, 3), (2, 3, 4), (2, 3, 5), (2, 3, 6), (2, 3, 7), (2, 3, 8), (2, 3, 9), (2, 4, 4), (2, 4, 5), (2, 4, 6), (2, 4, 7), (2, 4, 8), (2, 4, 9), (2, 5, 5), (2, 5, 6), (2, 5, 7), (2, 5, 8), (2, 5, 9), (2, 6, 6), (2, 6, 7), (2, 6, 8), (2, 6, 9), (2, 7, 7), (2, 7, 8), (2, 7, 9), (2, 8, 8), (2, 8, 9), (2, 9, 9), (3, 3, 3), (3, 3, 4), (3, 3, 5), (3, 3, 6), (3, 3, 7), (3, 3, 8), (3, 3, 9), (3, 4, 4), (3, 4, 5), (3, 4, 6), (3, 4, 7), (3, 4, 8), (3, 4, 9), (3, 5, 5), (3, 5, 6), (3, 5, 7), (3, 5, 8), (3, 5, 9), (3, 6, 6), (3, 6, 7), (3, 6, 8), (3, 6, 9), (3, 7, 7), (3, 7, 8), (3, 7, 9), (3, 8, 8), (3, 8, 9), (3, 9, 9), (4, 4, 4), (4, 4, 5), (4, 4, 6), (4, 4, 7), (4, 4, 8), (4, 4, 9), (4, 5, 5), (4, 5, 6), (4, 5, 7), (4, 5, 8), (4, 5, 9), (4, 6, 6), (4, 6, 7), (4, 6, 8), (4, 6, 9), (4, 7, 7), (4, 7, 8), (4, 7, 9), (4, 8, 8), (4, 8, 9), (4, 9, 9), (5, 5, 5), (5, 5, 6), (5, 5, 7), (5, 5, 8), (5, 5, 9), (5, 6, 6), (5, 6, 7), (5, 6, 8), (5, 6, 9), (5, 7, 7), (5, 7, 8), (5, 7, 9), (5, 8, 8), (5, 8, 9), (5, 9, 9), (6, 6, 6), (6, 6, 7), (6, 6, 8), (6, 6, 9), (6, 7, 7), (6, 7, 8), (6, 7, 9), (6, 8, 8), (6, 8, 9), (6, 9, 9), (7, 7, 7), (7, 7, 8), (7, 7, 9), (7, 8, 8), (7, 8, 9), (7, 9, 9), (8, 8, 8), (8, 8, 9), (8, 9, 9), (9, 9, 9)]\n"
     ]
    }
   ],
   "source": [
    "from itertools import combinations_with_replacement\n",
    "\n",
    "lista = range(1,10)\n",
    "\n",
    "combinations_with_replacement_list = list(combinations_with_replacement(lista, 3))\n",
    "print(combinations_with_replacement_list)"
   ]
  },
  {
   "cell_type": "markdown",
   "id": "e2520978-2702-4e0b-bc1b-5e1cdd387cfd",
   "metadata": {},
   "source": [
    "Fornece a combinação agrupadas em 3 elementos do iterável `lista`, com reposição de elementos."
   ]
  },
  {
   "cell_type": "markdown",
   "id": "4c589595-cea9-47e8-82e5-79fffdbf68e6",
   "metadata": {},
   "source": [
    "<h3>Considerações finais:</h3>\n",
    "Este módulo possui funções muito usadas em uma gama de problemas rotineiros, facilitanto a escrita e otimização de código, por isso sua relevância. Para dúvidas em relação ao módulo ou curiosidade sobre o mesmo, recomendamos fortemente a consulta na documentação oficial. <br><br>"
   ]
  },
  {
   "cell_type": "markdown",
   "id": "69e4ff8f-32b9-45b9-97ca-f24d299f4b84",
   "metadata": {},
   "source": [
    "<h3>Referências:</h3>\n",
    "ITERTOOLS. Functions creating iterators for efficient looping. Python 3.9.1 documentation. Disponível em: https://docs.python.org/3/library/itertools.html.<br><br>\n",
    "Python Itertools. Acervo Lima. Disponível em: https://acervolima.com/python-itertools/. <br><br>\n",
    "Chat GPT. Não foi usadas em citações diretas, apenas para ajudar a entender o conteúdo."
   ]
  },
  {
   "cell_type": "code",
   "execution_count": null,
   "id": "f441eb0d-e5f9-4b9a-9628-843a1d100643",
   "metadata": {},
   "outputs": [],
   "source": []
  }
 ],
 "metadata": {
  "kernelspec": {
   "display_name": "ilumpy",
   "language": "python",
   "name": "ilumpy"
  },
  "language_info": {
   "codemirror_mode": {
    "name": "ipython",
    "version": 3
   },
   "file_extension": ".py",
   "mimetype": "text/x-python",
   "name": "python",
   "nbconvert_exporter": "python",
   "pygments_lexer": "ipython3",
   "version": "3.10.8"
  }
 },
 "nbformat": 4,
 "nbformat_minor": 5
}
