{
 "cells": [
  {
   "cell_type": "markdown",
   "id": "fc0d6394-ae99-4896-8b35-12c2f8750ca9",
   "metadata": {},
   "source": [
    "<h3>Dúvidas:</h3>"
   ]
  },
  {
   "cell_type": "markdown",
   "id": "0083e6ca-bde9-4cac-a0a1-98c255e42f61",
   "metadata": {},
   "source": [
    "- Hiperparâmetros\n",
    "- Eu não entendo muito bem como o modelo ACHA o parâmetro, tipo, é por programação, certo? Mas a gente não vai aprender como fazer isso? A parte do algorítimo mesmo.\n",
    "- Qual a diferença se eu treinar um modelo linear normalizado e não normalizado."
   ]
  },
  {
   "cell_type": "code",
   "execution_count": null,
   "id": "fb08564f-3bec-4fb3-8e4c-543e64a4a1b6",
   "metadata": {},
   "outputs": [],
   "source": []
  },
  {
   "cell_type": "code",
   "execution_count": null,
   "id": "829ebdba-b28e-47c3-853a-164225fc1155",
   "metadata": {},
   "outputs": [],
   "source": []
  },
  {
   "cell_type": "markdown",
   "id": "fed1bbae-7dd0-415b-8bb3-a5cdc11abc81",
   "metadata": {},
   "source": [
    "<h3>Anotações:</h3>"
   ]
  },
  {
   "cell_type": "markdown",
   "id": "8d2e86b1-d79e-4199-aafe-4dd867e2cd46",
   "metadata": {},
   "source": [
    "P/ apagar todas as linhas com NaN (valores faltantes):"
   ]
  },
  {
   "cell_type": "code",
   "execution_count": null,
   "id": "88b32f15-aa86-426b-8e05-65efc910e91a",
   "metadata": {},
   "outputs": [],
   "source": [
    "df = df.dropna()"
   ]
  },
  {
   "cell_type": "markdown",
   "id": "16315864-839a-4fd4-b888-40796a8ad8ba",
   "metadata": {},
   "source": [
    "Se X for um array numpy, ele vai diminuir termo a termo e p/ todas as linhas."
   ]
  },
  {
   "cell_type": "code",
   "execution_count": null,
   "id": "eaa18a0a-a504-44f9-95d2-c249d1717bc6",
   "metadata": {},
   "outputs": [],
   "source": [
    "X - [2, 4, 6]"
   ]
  },
  {
   "cell_type": "code",
   "execution_count": null,
   "id": "01b96093-1b98-4fb1-9214-25ff079ac5f2",
   "metadata": {},
   "outputs": [],
   "source": []
  },
  {
   "cell_type": "code",
   "execution_count": null,
   "id": "217f845f-c47c-4035-acd1-c3a290aee92d",
   "metadata": {},
   "outputs": [],
   "source": []
  },
  {
   "cell_type": "markdown",
   "id": "68cde3bb-20be-4845-9d65-1e9bd84926c2",
   "metadata": {},
   "source": [
    "Códigos não tão babado:"
   ]
  },
  {
   "cell_type": "code",
   "execution_count": null,
   "id": "8518c429-f020-49a9-b9d4-e53727b95977",
   "metadata": {},
   "outputs": [],
   "source": [
    "# TESTE TESTE TESTE TESTE\n",
    "\n",
    "df = pd.DataFrame(df_do_excel)\n",
    "    \n",
    "x = []\n",
    "for j in df['Frequência cardíaca basal (FCF)']:\n",
    "    x.append(j)\n",
    "    \n",
    "y = []\n",
    "for i in range(0, len(x)):\n",
    "    y.append(i)\n",
    "    \n",
    "plt.scatter(y, x, color='blue')\n",
    "#plt.plot(x, label='FCF', color='blue')\n",
    "\n",
    "# Adicionando rótulos e título\n",
    "plt.xlabel('Frequência cardíaca basal (FCF)')\n",
    "plt.ylabel('Quantidades')\n",
    "plt.title('Vendas ao longo dos anos')\n",
    "\n",
    "# Exibindo o gráfico\n",
    "plt.show()"
   ]
  },
  {
   "cell_type": "code",
   "execution_count": null,
   "id": "18f56c13-a472-43bf-b2df-c031075e278e",
   "metadata": {},
   "outputs": [],
   "source": []
  }
 ],
 "metadata": {
  "kernelspec": {
   "display_name": "ilumpy",
   "language": "python",
   "name": "ilumpy"
  },
  "language_info": {
   "codemirror_mode": {
    "name": "ipython",
    "version": 3
   },
   "file_extension": ".py",
   "mimetype": "text/x-python",
   "name": "python",
   "nbconvert_exporter": "python",
   "pygments_lexer": "ipython3",
   "version": "3.10.8"
  }
 },
 "nbformat": 4,
 "nbformat_minor": 5
}
